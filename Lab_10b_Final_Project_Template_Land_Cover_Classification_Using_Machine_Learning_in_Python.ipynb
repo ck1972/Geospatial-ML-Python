{
  "nbformat": 4,
  "nbformat_minor": 0,
  "metadata": {
    "colab": {
      "provenance": [],
      "authorship_tag": "ABX9TyOWwUAe60awK9KddDJEJYo5",
      "include_colab_link": true
    },
    "kernelspec": {
      "name": "python3",
      "display_name": "Python 3"
    },
    "language_info": {
      "name": "python"
    }
  },
  "cells": [
    {
      "cell_type": "markdown",
      "metadata": {
        "id": "view-in-github",
        "colab_type": "text"
      },
      "source": [
        "<a href=\"https://colab.research.google.com/github/ck1972/Geospatial-ML-Python/blob/main/Lab_10b_Final_Project_Template_Land_Cover_Classification_Using_Machine_Learning_in_Python.ipynb\" target=\"_parent\"><img src=\"https://colab.research.google.com/assets/colab-badge.svg\" alt=\"Open In Colab\"/></a>"
      ]
    },
    {
      "cell_type": "markdown",
      "source": [
        "# Lab 10b. Final Project Template: Land Cover Classification Using Machine Learning in Python\n",
        "##  Overview\n",
        "\n",
        "*   Objective: Classify land cover types using features like spectral indices and elevation.\n",
        "*   Model: Random Forest Classifier\n",
        "*   Tools: Python, Scikit-learn, SHAP, Google Colab"
      ],
      "metadata": {
        "id": "Vam5FT3wLL30"
      }
    },
    {
      "cell_type": "code",
      "execution_count": null,
      "metadata": {
        "id": "AS8Xy5LJLBNo"
      },
      "outputs": [],
      "source": [
        "# STEP 1: Install and import packages\n",
        "!pip install shap\n",
        "import pandas as pd\n",
        "import numpy as np\n",
        "import matplotlib.pyplot as plt\n",
        "import shap\n",
        "import joblib\n",
        "from sklearn.ensemble import RandomForestClassifier\n",
        "from sklearn.model_selection import train_test_split\n",
        "from sklearn.metrics import classification_report, confusion_matrix"
      ]
    },
    {
      "cell_type": "code",
      "source": [
        "# STEP 2: Mount Google Drive\n",
        "from google.colab import drive\n",
        "drive.mount('/content/drive')"
      ],
      "metadata": {
        "id": "7QZM5bVvLseR"
      },
      "execution_count": null,
      "outputs": []
    },
    {
      "cell_type": "code",
      "source": [
        "# STEP 3: Load dataset\n",
        "data_path = '/content/drive/MyDrive/LandCover/final_landcover_dataset.csv'\n",
        "df = pd.read_csv(data_path)\n",
        "\n",
        "df.head()\n",
        "df['landcover_class'].value_counts()"
      ],
      "metadata": {
        "id": "owSOgG2hLuxK"
      },
      "execution_count": null,
      "outputs": []
    },
    {
      "cell_type": "code",
      "source": [
        "# STEP 4: Set up features and target\n",
        "features = ['NDVI', 'SAVI', 'Elevation', 'Slope', 'Aspect']\n",
        "target = 'landcover_class'\n",
        "\n",
        "X = df[features]\n",
        "y = df[target]"
      ],
      "metadata": {
        "id": "CcJlMgOWLyLK"
      },
      "execution_count": null,
      "outputs": []
    },
    {
      "cell_type": "code",
      "source": [
        "# STEP 5: Split dataset\n",
        "X_train, X_test, y_train, y_test = train_test_split(X, y, test_size=0.3, random_state=42)"
      ],
      "metadata": {
        "id": "LWcWMpa2L1XX"
      },
      "execution_count": null,
      "outputs": []
    },
    {
      "cell_type": "code",
      "source": [
        "# STEP 6: Train model\n",
        "clf = RandomForestClassifier(n_estimators=100, random_state=42)\n",
        "clf.fit(X_train, y_train)\n",
        "\n",
        "# Save model\n",
        "joblib.dump({'model': clf, 'features': features}, '/content/drive/MyDrive/LandCover/rf_landcover_model.pkl')"
      ],
      "metadata": {
        "id": "P9aEIeh4L41w"
      },
      "execution_count": null,
      "outputs": []
    },
    {
      "cell_type": "code",
      "source": [
        "# STEP 7: Evaluate model\n",
        "y_pred = clf.predict(X_test)\n",
        "print(\"Classification Report:\\n\", classification_report(y_test, y_pred))\n",
        "print(\"Confusion Matrix:\\n\", confusion_matrix(y_test, y_pred))"
      ],
      "metadata": {
        "id": "36kSR4dDL7o9"
      },
      "execution_count": null,
      "outputs": []
    },
    {
      "cell_type": "code",
      "source": [
        "# STEP 8: Feature Importance & SHAP\n",
        "explainer = shap.TreeExplainer(clf)\n",
        "shap_values = explainer.shap_values(X_test)\n",
        "\n",
        "# SHAP Summary Plot\n",
        "shap.summary_plot(shap_values, X_test, plot_type=\"bar\")"
      ],
      "metadata": {
        "id": "1OCHiXZTL_8f"
      },
      "execution_count": null,
      "outputs": []
    },
    {
      "cell_type": "code",
      "source": [
        "# STEP 9: Save results\n",
        "results_df = X_test.copy()\n",
        "results_df['Actual_Class'] = y_test\n",
        "results_df['Predicted_Class'] = y_pred\n",
        "results_df.to_csv('/content/drive/MyDrive/LandCover/landcover_predictions.csv', index=False)"
      ],
      "metadata": {
        "id": "lbBBt1KfMDLg"
      },
      "execution_count": null,
      "outputs": []
    }
  ]
}