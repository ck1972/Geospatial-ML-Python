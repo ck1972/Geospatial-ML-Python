{
  "nbformat": 4,
  "nbformat_minor": 0,
  "metadata": {
    "colab": {
      "provenance": []
    },
    "kernelspec": {
      "name": "python3",
      "display_name": "Python 3"
    },
    "language_info": {
      "name": "python"
    }
  },
  "cells": [
    {
      "cell_type": "markdown",
      "source": [
        "# Geospatial Machine Learning with Python: An Introductory Guide\n",
        "## Overview\n",
        "This module introduces geospatial professionals, students, and enthusiasts to the powerful combination of Python and machine learning for analyzing Earth observation data. By the end of the course, participants will have a strong foundation in geospatial machine learning, empowering them to tackle a range of challenges, from land cover classification to biomass density modeling.\n",
        "\n",
        "The module begins with an introduction to Python and its applications in geospatial machine learning, progresses to hands-on machine learning techniques, and concludes with advanced topics like explainable machine learning and scaling workflows. Each lab is crafted to build your skills step-by-step, providing both theoretical knowledge and practical exercises.\n",
        "\n",
        "With 10 comprehensive labs, this course ensures that you understand the core concepts and apply them using Python in real-world scenarios.\n",
        "\n",
        "- Lab 1: Introduction to Geospatial Machine Learning with Python\n",
        "- Lab 2: Python Fundamentals for Geospatial Machine Learning\n",
        "- Lab 3: Machine Learning Fundamentals\n",
        "- Lab 4: Preparing Data for Geospatial Machine Learning\n",
        "- Lab 5: Machine Learning for Land Cover Classification\n",
        "- Lab 6: Machine Learning for Regression Analysis (AGBD)\n",
        "- Lab 7: Explainable Machine Learning in Geospatial Analysis\n",
        "- Lab 8: Scaling Geospatial ML Workflows\n",
        "- Lab 9: Unsupervised Machine Learning\n",
        "- Lab 10: Final Project and Summary"
      ],
      "metadata": {
        "id": "5a4GzKI-K7Px"
      }
    },
    {
      "cell_type": "markdown",
      "source": [
        "## Lab 1: Introduction Geospatial Machine Learning with Python\n",
        "\n",
        "### Learning objectives\n",
        "By the end of this session, participants will be able to:\n",
        "- Gain a clear overview of the course content, modules, and expected outcomes.\n",
        "- Learn to access and navigate the Google Colab environment for running Python code.\n",
        "- Learn how to install Python libraries in Google Colab.\n",
        "\n",
        "\n",
        "### Google Colab\n",
        "In this course series, we will use Google Colab, a free cloud-based platform, to run Jupyter notebooks. Google Colab allows you to write and execute Python code in a web-based environment, eliminating the need for local installations. It is particularly suited for geospatial machine learning as it provides access to powerful computing resources like GPUs and TPUs. It integrates seamlessly with popular libraries like geopandas, rasterio, and scikit-learn.\n",
        "\n",
        "Key benefits of using Google Colab in this course include:\n",
        "- No Installation Needed: Access a pre-configured Python environment directly in your web browser.\n",
        "- Cloud Storage Integration: Easily import and export datasets from Google Drive.\n",
        "- Scalability: Run computationally intensive tasks on cloud resources, including geospatial analysis and machine learning models.\n",
        "\n",
        "Google Colab ensures that participants can follow along and complete the hands-on exercises efficiently regardless of their local computing setup.\n",
        "\n",
        "### Key Python libraries\n",
        "Python offers a powerful ecosystem of libraries specifically designed for geospatial data analysis and machine learning. Some of the most influential libraries include:\n",
        "- Rasterio\n",
        "Focused on raster data input and output, Rasterio simplifies reading, writing, and transforming raster data formats. It supports integration with machine learning pipelines where raster data, such as multispectral satellite images, serve as input.\n",
        "       \n",
        "- Earthpy\n",
        "EarthPy is a Python package designed to simplify working with spatial and remote sensing data. It provides tools for efficient manipulation, analysis, and visualization of geospatial information.\n",
        "       \n",
        "- Scikit-learn\n",
        "Known for its versatility, Scikit-learn supports core machine learning tasks such as:\n",
        "        - Data preprocessing (e.g., normalization, encoding categorical data).\n",
        "        - Dimensionality reduction (e.g., Principal Component Analysis).\n",
        "        - Model training and hyperparameter tuning with GridSearchCV.\n",
        "          \n",
        "- NumPy\n",
        "NumPy is a powerful Python library that plays a crucial role in geospatial analysis. It provides efficient tools for manipulating and processing spatial data, particularly when working with raster datasets.\n",
        "       \n",
        "- Geowombat\n",
        "A library designed to streamline geospatial workflows by integrating raster data manipulation with machine learning workflows. Geowombat supports large-scale raster operations and enables efficient model fitting and prediction directly on raster grids, making it suitable for tasks like habitat suitability modeling and land cover classification."
      ],
      "metadata": {
        "id": "5NUxSuVVSzDW"
      }
    },
    {
      "cell_type": "markdown",
      "source": [
        "### Installing Python libraries\n",
        "Google Colab comes pre-installed with many packages. You can check the existing libraries using:"
      ],
      "metadata": {
        "id": "g7_70mZPQFo4"
      }
    },
    {
      "cell_type": "code",
      "source": [
        "# Check pre-installed libraries\n",
        "!pip list"
      ],
      "metadata": {
        "id": "8G6n8N_xQ-kW"
      },
      "execution_count": null,
      "outputs": []
    },
    {
      "cell_type": "markdown",
      "source": [
        "If you need libraries not included by default, install them using !pip install. For example:"
      ],
      "metadata": {
        "id": "TZV5qMvWWQ2D"
      }
    },
    {
      "cell_type": "code",
      "source": [
        "# Install rasterio library\n",
        "!pip install rasterio"
      ],
      "metadata": {
        "id": "pLzRheifROM1"
      },
      "execution_count": null,
      "outputs": []
    },
    {
      "cell_type": "markdown",
      "source": [
        "You can also install multiple packages using one command:  "
      ],
      "metadata": {
        "id": "daiNF7aZRR7d"
      }
    },
    {
      "cell_type": "code",
      "source": [
        "# Install multiple packages\n",
        "!pip install rasterio earthpy geowombat"
      ],
      "metadata": {
        "id": "vlB50J2KRWjE"
      },
      "execution_count": null,
      "outputs": []
    },
    {
      "cell_type": "markdown",
      "source": [
        "To install a specific version of a library (helpful for compatibility):  "
      ],
      "metadata": {
        "id": "DqOUAaneRwfI"
      }
    },
    {
      "cell_type": "code",
      "source": [
        "# Install package to ensure compability\n",
        "!pip install package_name==1.2.3"
      ],
      "metadata": {
        "id": "1f2O1yyYRzwA"
      },
      "execution_count": null,
      "outputs": []
    },
    {
      "cell_type": "markdown",
      "source": [
        "After installation, import the libraries into your notebook."
      ],
      "metadata": {
        "id": "kBf539nSR8y7"
      }
    },
    {
      "cell_type": "code",
      "source": [
        "# Import libraries\n",
        "import numpy as np\n",
        "import pandas as pd\n",
        "\n",
        "# Sample DataFrame\n",
        "data = {'Column1': [1, 2, 3], 'Column2': [4, 5, 6]}\n",
        "df = pd.DataFrame(data)\n",
        "print(df)"
      ],
      "metadata": {
        "id": "yqbirWB2SEe5"
      },
      "execution_count": null,
      "outputs": []
    },
    {
      "cell_type": "markdown",
      "source": [
        "### Accessing files\n",
        "You can upload files directly by clicking on the File icon on the left sidebar. Then upload files using the Upload button.Alternatively, you can access Google Drive."
      ],
      "metadata": {
        "id": "iCkSYKtQSIuO"
      }
    },
    {
      "cell_type": "code",
      "source": [
        "# Mount Google Drive\n",
        "from google.colab import drive\n",
        "drive.mount('/content/drive')"
      ],
      "metadata": {
        "id": "fVpzoCp4Sbbv"
      },
      "execution_count": null,
      "outputs": []
    },
    {
      "cell_type": "markdown",
      "source": [
        "### Save your work\n",
        "Your notebook is automatically saved in Google Drive. You can also export the notebook as .ipynb (Jupyter Notebook format) or .py (Python script). Finally, you can share the notebook with collaborators using the Share button in the top-right corner."
      ],
      "metadata": {
        "id": "euAaQY6lSoGg"
      }
    },
    {
      "cell_type": "markdown",
      "source": [
        "## Important considerations\n",
        "1. Temporary nature\n",
        "Colab environments reset when you reconnect or start a new session, requiring packages to be reinstalled.  \n",
        "2. Persistent solutions\n",
        "For persistent environments, consider alternatives like AWS SageMaker or installing libraries in your Google Drive. Note that installing in Drive does not fully solve dependency persistence issues.  \n",
        "3. Reproducibility\n",
        "Install packages at the beginning of your notebook and specify exact versions in your requirements file for consistent results."
      ],
      "metadata": {
        "id": "Qv5itV8oTBsd"
      }
    },
    {
      "cell_type": "markdown",
      "source": [
        "By C Kamusoko\n",
        "\n",
        "© Copyright 2024."
      ],
      "metadata": {
        "id": "EPwXj6TEhXn9"
      }
    }
  ]
}