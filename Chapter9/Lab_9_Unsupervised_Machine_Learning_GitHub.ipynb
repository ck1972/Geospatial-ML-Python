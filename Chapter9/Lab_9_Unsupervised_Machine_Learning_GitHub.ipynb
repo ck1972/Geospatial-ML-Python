{
  "nbformat": 4,
  "nbformat_minor": 0,
  "metadata": {
    "colab": {
      "provenance": []
    },
    "kernelspec": {
      "name": "python3",
      "display_name": "Python 3"
    },
    "language_info": {
      "name": "python"
    }
  },
  "cells": [
    {
      "cell_type": "markdown",
      "source": [
        "# **Unsupervised Machine Learning for Geospatial Data Analysis**\n"
      ],
      "metadata": {
        "id": "z0Uimxuhx6UF"
      }
    },
    {
      "cell_type": "markdown",
      "source": [
        "## Imports and Setup\n",
        "### Install libraries\n",
        "First, install any additional libraries that are not installed by default (e.g., rasterio, earthpy).."
      ],
      "metadata": {
        "id": "-pwDPkalAvRb"
      }
    },
    {
      "cell_type": "code",
      "execution_count": null,
      "metadata": {
        "id": "aWr5V6krNx-I",
        "colab": {
          "base_uri": "https://localhost:8080/"
        },
        "outputId": "4006e7dd-ece7-4af3-bed4-40dfb270e366",
        "collapsed": true
      },
      "outputs": [
        {
          "output_type": "stream",
          "name": "stdout",
          "text": [
            "Collecting rasterio\n",
            "  Downloading rasterio-1.4.3-cp311-cp311-manylinux_2_17_x86_64.manylinux2014_x86_64.whl.metadata (9.1 kB)\n",
            "Collecting affine (from rasterio)\n",
            "  Downloading affine-2.4.0-py3-none-any.whl.metadata (4.0 kB)\n",
            "Requirement already satisfied: attrs in /usr/local/lib/python3.11/dist-packages (from rasterio) (25.3.0)\n",
            "Requirement already satisfied: certifi in /usr/local/lib/python3.11/dist-packages (from rasterio) (2025.1.31)\n",
            "Requirement already satisfied: click>=4.0 in /usr/local/lib/python3.11/dist-packages (from rasterio) (8.1.8)\n",
            "Collecting cligj>=0.5 (from rasterio)\n",
            "  Downloading cligj-0.7.2-py3-none-any.whl.metadata (5.0 kB)\n",
            "Requirement already satisfied: numpy>=1.24 in /usr/local/lib/python3.11/dist-packages (from rasterio) (2.0.2)\n",
            "Collecting click-plugins (from rasterio)\n",
            "  Downloading click_plugins-1.1.1-py2.py3-none-any.whl.metadata (6.4 kB)\n",
            "Requirement already satisfied: pyparsing in /usr/local/lib/python3.11/dist-packages (from rasterio) (3.2.3)\n",
            "Downloading rasterio-1.4.3-cp311-cp311-manylinux_2_17_x86_64.manylinux2014_x86_64.whl (22.2 MB)\n",
            "\u001b[2K   \u001b[90m━━━━━━━━━━━━━━━━━━━━━━━━━━━━━━━━━━━━━━━━\u001b[0m \u001b[32m22.2/22.2 MB\u001b[0m \u001b[31m20.3 MB/s\u001b[0m eta \u001b[36m0:00:00\u001b[0m\n",
            "\u001b[?25hDownloading cligj-0.7.2-py3-none-any.whl (7.1 kB)\n",
            "Downloading affine-2.4.0-py3-none-any.whl (15 kB)\n",
            "Downloading click_plugins-1.1.1-py2.py3-none-any.whl (7.5 kB)\n",
            "Installing collected packages: cligj, click-plugins, affine, rasterio\n",
            "Successfully installed affine-2.4.0 click-plugins-1.1.1 cligj-0.7.2 rasterio-1.4.3\n",
            "Collecting earthpy\n",
            "  Downloading earthpy-0.9.4-py3-none-any.whl.metadata (9.2 kB)\n",
            "Requirement already satisfied: geopandas in /usr/local/lib/python3.11/dist-packages (from earthpy) (1.0.1)\n",
            "Requirement already satisfied: matplotlib>=2.0.0 in /usr/local/lib/python3.11/dist-packages (from earthpy) (3.10.0)\n",
            "Requirement already satisfied: numpy>=1.14.0 in /usr/local/lib/python3.11/dist-packages (from earthpy) (2.0.2)\n",
            "Requirement already satisfied: rasterio in /usr/local/lib/python3.11/dist-packages (from earthpy) (1.4.3)\n",
            "Requirement already satisfied: scikit-image in /usr/local/lib/python3.11/dist-packages (from earthpy) (0.25.2)\n",
            "Requirement already satisfied: requests in /usr/local/lib/python3.11/dist-packages (from earthpy) (2.32.3)\n",
            "Requirement already satisfied: contourpy>=1.0.1 in /usr/local/lib/python3.11/dist-packages (from matplotlib>=2.0.0->earthpy) (1.3.1)\n",
            "Requirement already satisfied: cycler>=0.10 in /usr/local/lib/python3.11/dist-packages (from matplotlib>=2.0.0->earthpy) (0.12.1)\n",
            "Requirement already satisfied: fonttools>=4.22.0 in /usr/local/lib/python3.11/dist-packages (from matplotlib>=2.0.0->earthpy) (4.57.0)\n",
            "Requirement already satisfied: kiwisolver>=1.3.1 in /usr/local/lib/python3.11/dist-packages (from matplotlib>=2.0.0->earthpy) (1.4.8)\n",
            "Requirement already satisfied: packaging>=20.0 in /usr/local/lib/python3.11/dist-packages (from matplotlib>=2.0.0->earthpy) (24.2)\n",
            "Requirement already satisfied: pillow>=8 in /usr/local/lib/python3.11/dist-packages (from matplotlib>=2.0.0->earthpy) (11.1.0)\n",
            "Requirement already satisfied: pyparsing>=2.3.1 in /usr/local/lib/python3.11/dist-packages (from matplotlib>=2.0.0->earthpy) (3.2.3)\n",
            "Requirement already satisfied: python-dateutil>=2.7 in /usr/local/lib/python3.11/dist-packages (from matplotlib>=2.0.0->earthpy) (2.8.2)\n",
            "Requirement already satisfied: pyogrio>=0.7.2 in /usr/local/lib/python3.11/dist-packages (from geopandas->earthpy) (0.10.0)\n",
            "Requirement already satisfied: pandas>=1.4.0 in /usr/local/lib/python3.11/dist-packages (from geopandas->earthpy) (2.2.2)\n",
            "Requirement already satisfied: pyproj>=3.3.0 in /usr/local/lib/python3.11/dist-packages (from geopandas->earthpy) (3.7.1)\n",
            "Requirement already satisfied: shapely>=2.0.0 in /usr/local/lib/python3.11/dist-packages (from geopandas->earthpy) (2.1.0)\n",
            "Requirement already satisfied: affine in /usr/local/lib/python3.11/dist-packages (from rasterio->earthpy) (2.4.0)\n",
            "Requirement already satisfied: attrs in /usr/local/lib/python3.11/dist-packages (from rasterio->earthpy) (25.3.0)\n",
            "Requirement already satisfied: certifi in /usr/local/lib/python3.11/dist-packages (from rasterio->earthpy) (2025.1.31)\n",
            "Requirement already satisfied: click>=4.0 in /usr/local/lib/python3.11/dist-packages (from rasterio->earthpy) (8.1.8)\n",
            "Requirement already satisfied: cligj>=0.5 in /usr/local/lib/python3.11/dist-packages (from rasterio->earthpy) (0.7.2)\n",
            "Requirement already satisfied: click-plugins in /usr/local/lib/python3.11/dist-packages (from rasterio->earthpy) (1.1.1)\n",
            "Requirement already satisfied: charset-normalizer<4,>=2 in /usr/local/lib/python3.11/dist-packages (from requests->earthpy) (3.4.1)\n",
            "Requirement already satisfied: idna<4,>=2.5 in /usr/local/lib/python3.11/dist-packages (from requests->earthpy) (3.10)\n",
            "Requirement already satisfied: urllib3<3,>=1.21.1 in /usr/local/lib/python3.11/dist-packages (from requests->earthpy) (2.3.0)\n",
            "Requirement already satisfied: scipy>=1.11.4 in /usr/local/lib/python3.11/dist-packages (from scikit-image->earthpy) (1.14.1)\n",
            "Requirement already satisfied: networkx>=3.0 in /usr/local/lib/python3.11/dist-packages (from scikit-image->earthpy) (3.4.2)\n",
            "Requirement already satisfied: imageio!=2.35.0,>=2.33 in /usr/local/lib/python3.11/dist-packages (from scikit-image->earthpy) (2.37.0)\n",
            "Requirement already satisfied: tifffile>=2022.8.12 in /usr/local/lib/python3.11/dist-packages (from scikit-image->earthpy) (2025.3.30)\n",
            "Requirement already satisfied: lazy-loader>=0.4 in /usr/local/lib/python3.11/dist-packages (from scikit-image->earthpy) (0.4)\n",
            "Requirement already satisfied: pytz>=2020.1 in /usr/local/lib/python3.11/dist-packages (from pandas>=1.4.0->geopandas->earthpy) (2025.2)\n",
            "Requirement already satisfied: tzdata>=2022.7 in /usr/local/lib/python3.11/dist-packages (from pandas>=1.4.0->geopandas->earthpy) (2025.2)\n",
            "Requirement already satisfied: six>=1.5 in /usr/local/lib/python3.11/dist-packages (from python-dateutil>=2.7->matplotlib>=2.0.0->earthpy) (1.17.0)\n",
            "Downloading earthpy-0.9.4-py3-none-any.whl (1.4 MB)\n",
            "\u001b[2K   \u001b[90m━━━━━━━━━━━━━━━━━━━━━━━━━━━━━━━━━━━━━━━━\u001b[0m \u001b[32m1.4/1.4 MB\u001b[0m \u001b[31m12.7 MB/s\u001b[0m eta \u001b[36m0:00:00\u001b[0m\n",
            "\u001b[?25hInstalling collected packages: earthpy\n",
            "Successfully installed earthpy-0.9.4\n"
          ]
        }
      ],
      "source": [
        "# Install rasterio and earthpy libraries\n",
        "!pip install rasterio\n",
        "!pip install earthpy"
      ]
    },
    {
      "cell_type": "markdown",
      "source": [
        "### Import libraries\n",
        "Import the necessary libraries (pandas, numpy, scikit-learn, rasterio, etc.)."
      ],
      "metadata": {
        "id": "SIhoHLoHq8_L"
      }
    },
    {
      "cell_type": "code",
      "source": [
        "# Import libraries\n",
        "import rasterio\n",
        "import earthpy.plot as ep\n",
        "import numpy as np\n",
        "import matplotlib.pyplot as plt\n",
        "import matplotlib.colors as mcolors\n",
        "import matplotlib.patches as mpatches\n",
        "from google.colab import drive\n",
        "from sklearn.preprocessing import StandardScaler\n",
        "from mpl_toolkits.axes_grid1 import make_axes_locatable\n",
        "from sklearn.cluster import KMeans, AgglomerativeClustering\n",
        "from sklearn.cluster import MiniBatchKMeans\n",
        "from sklearn.mixture import GaussianMixture"
      ],
      "metadata": {
        "id": "F6bfz1KZzA-J"
      },
      "execution_count": null,
      "outputs": []
    },
    {
      "cell_type": "markdown",
      "source": [
        "### Mount Google Drive\n",
        "Next, mount your Google Drive. You will be prompted to authorize access to your Google Drive. Once mounted, you can read/write files in /content/drive/MyDrive."
      ],
      "metadata": {
        "id": "bzVfa9mtzRMO"
      }
    },
    {
      "cell_type": "code",
      "source": [
        "# Mount Google Drive\n",
        "drive.mount('/content/drive')"
      ],
      "metadata": {
        "colab": {
          "base_uri": "https://localhost:8080/"
        },
        "id": "VXvi8JvIzRmY",
        "outputId": "4247e1d6-5906-4d9f-eb61-7a2a47ffdcb8"
      },
      "execution_count": null,
      "outputs": [
        {
          "output_type": "stream",
          "name": "stdout",
          "text": [
            "Mounted at /content/drive\n"
          ]
        }
      ]
    },
    {
      "cell_type": "markdown",
      "source": [
        "### Define paths and variables\n",
        "Define the the paths to access your own directory structure in Google Drive. In this tutorial, we use:\n",
        "-A CSV training dataset (Bul_TrainingData_2024.csv) containing pixel values and their corresponding classes.\n",
        "- A multiband Sentinel-2 image (Bul_S2_2024.tif).\n",
        "- PALSAR ScanSAR polarization"
      ],
      "metadata": {
        "id": "l0HWzfHGzVCH"
      }
    },
    {
      "cell_type": "code",
      "source": [
        "# Define path that contains the datasets\n",
        "S2_Image_Path = '/content/drive/MyDrive/Bulawayo_Dataset_2024/Bul_S2_2024.tif'\n",
        "Palsar_Image_Path = '/content/drive/MyDrive/Bulawayo_Dataset_2024/Bul_Palsar_HV_2024.tif'"
      ],
      "metadata": {
        "id": "Vj2kFuhMzVd3"
      },
      "execution_count": null,
      "outputs": []
    },
    {
      "cell_type": "markdown",
      "source": [
        "## Load Images\n",
        "We will use rasterio to open the .tif file. These are Sentinel-2 imagery and ALOS PALSAR ScanSAR HV polarization."
      ],
      "metadata": {
        "id": "GVQZaVjI3lT_"
      }
    },
    {
      "cell_type": "code",
      "source": [
        "# Load Sentinel-2 image\n",
        "with rasterio.open(S2_Image_Path) as src_s2:\n",
        "    s2_array = src_s2.read()  # shape: [bands, height, width]\n",
        "    profile = src_s2.profile\n",
        "    height, width = src_s2.height, src_s2.width\n",
        "\n",
        "# Load PALSAR HV image\n",
        "with rasterio.open(Palsar_Image_Path) as src_palsar:\n",
        "    palsar_array = src_palsar.read(1)  # HV is single-band: [height, width]\n",
        "\n",
        "# Ensure shapes match\n",
        "assert s2_array.shape[1:] == palsar_array.shape, \"Image sizes don't match. Reproject or resample needed.\""
      ],
      "metadata": {
        "id": "9l9ogzuvbsSL"
      },
      "execution_count": null,
      "outputs": []
    },
    {
      "cell_type": "markdown",
      "source": [
        "### Display images\n",
        "Display the Sentinel-2 composite and the PALSAR ScanSAR HV polorization image."
      ],
      "metadata": {
        "id": "2YkbgnVoeWJi"
      }
    },
    {
      "cell_type": "code",
      "source": [
        "# Select bands for RGB composite: B4 (Red), B3 (Green), B2 (Blue)\n",
        "# Note: Check your band ordering if uncertain\n",
        "red = s2_array[2, :, :]  # B4\n",
        "green = s2_array[1, :, :]  # B3\n",
        "blue = s2_array[0, :, :]  # B2\n",
        "\n",
        "# Stack and normalize for RGB display\n",
        "rgb = np.stack([red, green, blue], axis=-1)\n",
        "rgb_min, rgb_max = 0, 0.3  # Adjust depending on your scaling\n",
        "rgb_display = np.clip((rgb - rgb_min) / (rgb_max - rgb_min), 0, 1)\n",
        "\n",
        "# Normalized HV (grayscale display)\n",
        "hv_min, hv_max = 0,1\n",
        "hv_display = np.clip((palsar_array - hv_min) / (hv_max - hv_min), 0, 1)\n",
        "\n",
        "# Plot side by side\n",
        "fig, axs = plt.subplots(1, 2, figsize=(14, 7))\n",
        "\n",
        "axs[0].imshow(rgb_display)\n",
        "axs[0].set_title('Sentinel-2 RGB (B4, B3, B2)')\n",
        "axs[0].axis('off')\n",
        "\n",
        "axs[1].imshow(hv_display, cmap='gray')\n",
        "axs[1].set_title('PALSAR HV Backscatter')\n",
        "axs[1].axis('off')\n",
        "\n",
        "plt.tight_layout()\n",
        "plt.show()"
      ],
      "metadata": {
        "id": "Xi6_Mmgvel1A"
      },
      "execution_count": null,
      "outputs": []
    },
    {
      "cell_type": "markdown",
      "source": [
        "## Prepare the Feature Array\n",
        "\n",
        "Combine Sentinel-2 RGB bands and PALSAR HV into one feature set."
      ],
      "metadata": {
        "id": "K4eJgGxC1Pkk"
      }
    },
    {
      "cell_type": "code",
      "source": [
        "# Flatten the bands\n",
        "r = red.flatten()\n",
        "g = green.flatten()\n",
        "b = blue.flatten()\n",
        "hv = palsar_array.flatten()\n",
        "\n",
        "# Stack features: [R, G, B, HV]\n",
        "features = np.stack([r, g, b, hv], axis=1)\n",
        "\n",
        "# Remove rows with NaNs\n",
        "valid_mask = ~np.isnan(features).any(axis=1)\n",
        "features_clean = features[valid_mask]\n",
        "\n",
        "# Normalize\n",
        "scaler = StandardScaler()\n",
        "features_scaled = scaler.fit_transform(features_clean)"
      ],
      "metadata": {
        "id": "dRZXJfMn8bUa"
      },
      "execution_count": null,
      "outputs": []
    },
    {
      "cell_type": "markdown",
      "source": [
        "## Clustering Techniques\n",
        "### Kmeans clustering\n",
        "K-Means clustering is an unsupervised machine learning algorithm that partitions data into a predefined number of clusters (k) by minimizing the distance between data points and their respective cluster centers. In geospatial analysis, it groups pixels with similar spectral characteristics — useful for land cover classification without labeled data.\n",
        "\n",
        "Next, we apply unsupervised K-Means clustering to pixel-level feature vectors extracted from the input imagery. The resulting cluster labels are reshaped to match the original image dimensions, allowing us to generate a land cover classification map. Each pixel is assigned to a cluster based on spectral similarity, which may correspond to different land cover types such as vegetation, urban areas, water bodies, or bare soil."
      ],
      "metadata": {
        "id": "qD9cjkdZ8htr"
      }
    },
    {
      "cell_type": "code",
      "source": [
        "# Apply KMeans clustering with 5 clusters\n",
        "# `random_state` ensures reproducibility (same results every run)\n",
        "kmeans = KMeans(n_clusters=5, random_state=42)\n",
        "\n",
        "# Fit the model to the scaled features and get cluster labels\n",
        "# features_scaled: shape [n_valid_pixels, n_features]\n",
        "kmeans_labels = kmeans.fit_predict(features_scaled)\n",
        "\n",
        "# Create an empty array with the same size as the full image (1D), initialized to -1\n",
        "# r is a flattened image band; we use its shape to ensure consistency\n",
        "kmeans_map = np.full(r.shape, fill_value=-1)\n",
        "\n",
        "# Insert the cluster labels into positions where the data was valid (no NaNs, etc.)\n",
        "kmeans_map[valid_mask] = kmeans_labels\n",
        "\n",
        "# Reshape the 1D array back into the original 2D image shape for mapping or export\n",
        "kmeans_map = kmeans_map.reshape((height, width))"
      ],
      "metadata": {
        "id": "DXAz5-6S8iHh"
      },
      "execution_count": null,
      "outputs": []
    },
    {
      "cell_type": "markdown",
      "source": [
        "Next, display the K-Means clustered map."
      ],
      "metadata": {
        "id": "8F6GBoXbM9BT"
      }
    },
    {
      "cell_type": "code",
      "source": [
        "# Create a figure and axis for plotting\n",
        "fig, ax = plt.subplots(figsize=(10, 8))  # Set the figure size\n",
        "\n",
        "# Display the KMeans clustered map using a categorical colormap ('tab10')\n",
        "im = ax.imshow(kmeans_map, cmap='tab10')\n",
        "\n",
        "# Set the map title with larger font size\n",
        "ax.set_title('Land Cover Clusters (KMeans)', fontsize=14)\n",
        "\n",
        "# Remove axis ticks and labels for a clean map display\n",
        "ax.axis('off')\n",
        "\n",
        "# Create a colorbar axis next to the map using axes_grid1\n",
        "from mpl_toolkits.axes_grid1 import make_axes_locatable\n",
        "divider = make_axes_locatable(ax)\n",
        "cax = divider.append_axes(\"right\", size=\"3%\", pad=0.05)  # Adjust size and padding\n",
        "\n",
        "# Add a colorbar for cluster reference and label it\n",
        "cbar = plt.colorbar(im, cax=cax)\n",
        "cbar.set_label('Cluster')  # Label the colorbar\n",
        "\n",
        "# Adjust layout to avoid overlapping elements\n",
        "plt.tight_layout()\n",
        "\n",
        "# Show the final map with the colorbar\n",
        "plt.show()"
      ],
      "metadata": {
        "id": "QxEoTovHM9ry"
      },
      "execution_count": null,
      "outputs": []
    },
    {
      "cell_type": "markdown",
      "source": [
        "### MiniBatch KMeans\n",
        "\n",
        "MiniBatch K-Means is a faster and more memory-efficient version of the traditional K-Means clustering algorithm. Instead of using the entire dataset to compute cluster centroids in each iteration, it processes small random subsets (mini-batches) of the data. This reduces computation time and memory usage, making it ideal for large datasets like satellite images or high-resolution geospatial rasters.\n",
        "\n",
        "Next, we perform unsupervised clustering using MiniBatch KMeans with 5 clusters and a batch size of 1000. We fit the model on the features_scaled dataset, which contains pixel-level features such as spectral bands or backscatter values. After fitting, the code returns a cluster label for each valid pixel. The labels are then placed back into a full-size array (mb_kmeans_map) using a valid pixel mask to ensure spatial consistency. Finally, the 1D array is reshaped into a 2D format (height × width) to reconstruct a classified land cover map, where each pixel is assigned a cluster based on similarity in spectral or SAR features."
      ],
      "metadata": {
        "id": "n4NiEgsIU8-r"
      }
    },
    {
      "cell_type": "code",
      "source": [
        "# Apply MiniBatch KMeans clustering with 5 clusters\n",
        "# Uses small batches (size = 1000) for faster computation on large datasets\n",
        "mb_kmeans = MiniBatchKMeans(n_clusters=5, batch_size=1000, random_state=42)\n",
        "\n",
        "# Fit the model and predict cluster labels for each valid pixel\n",
        "mb_labels = mb_kmeans.fit_predict(features_scaled)\n",
        "\n",
        "# Create a placeholder array with the shape of the original image (flattened)\n",
        "# Initialize with -1 for pixels that will not be classified\n",
        "mb_kmeans_map = np.full(r.shape, fill_value=-1)\n",
        "\n",
        "# Insert the cluster labels at valid pixel locations\n",
        "mb_kmeans_map[valid_mask] = mb_labels\n",
        "\n",
        "# Reshape the 1D classified map back into 2D image format\n",
        "mb_kmeans_map = mb_kmeans_map.reshape((height, width))"
      ],
      "metadata": {
        "id": "BbTVaV5SAa6p"
      },
      "execution_count": null,
      "outputs": []
    },
    {
      "cell_type": "markdown",
      "source": [
        "Next, display the MiniBatch KMeans clustered map."
      ],
      "metadata": {
        "id": "EbrjLgOaNZ2s"
      }
    },
    {
      "cell_type": "code",
      "source": [
        "# Create a figure and axis object for plotting\n",
        "fig, ax = plt.subplots(figsize=(10, 8))  # Set figure size (width, height) in inches\n",
        "\n",
        "# Display the MiniBatch KMeans cluster map using the 'tab10' colormap\n",
        "im = ax.imshow(mb_kmeans_map, cmap='tab10')\n",
        "\n",
        "# Add a title to the map with increased font size\n",
        "ax.set_title('Land Cover Clusters (MB KMeans)', fontsize=14)\n",
        "\n",
        "# Remove axis ticks and labels for a clean visual map\n",
        "ax.axis('off')\n",
        "\n",
        "# Create a divider to add a colorbar next to the map\n",
        "from mpl_toolkits.axes_grid1 import make_axes_locatable\n",
        "divider = make_axes_locatable(ax)\n",
        "\n",
        "# Append a new axes (cax) to the right of the map for the colorbar\n",
        "cax = divider.append_axes(\"right\", size=\"3%\", pad=0.05)\n",
        "\n",
        "# Add and customize the colorbar for interpreting cluster values\n",
        "cbar = plt.colorbar(im, cax=cax)\n",
        "cbar.set_label('Cluster')  # Label for the colorbar\n",
        "\n",
        "# Automatically adjust spacing to prevent overlap of elements\n",
        "plt.tight_layout()\n",
        "\n",
        "# Display the final plot\n",
        "plt.show()"
      ],
      "metadata": {
        "id": "I9Vwd6qzNaRU"
      },
      "execution_count": null,
      "outputs": []
    },
    {
      "cell_type": "markdown",
      "source": [
        "### Gaussian Mixture Model (GMM)\n",
        "\n",
        "A Gaussian Mixture Model (GMM) is a probabilistic clustering algorithm that assumes the data is generated from a mixture of several Gaussian distributions, each representing a different cluster. Unlike KMeans, which assigns data points to clusters based solely on distance to a centroid, GMM models the probability of each point belonging to a cluster and allows for soft classification (points can belong to multiple clusters with varying probabilities). It also accounts for cluster shapes, orientations, and variances, making it more flexible for modeling real-world data distributions.\n",
        "\n",
        "Next, we create a GMM with 5 components (clusters) and a shared covariance structure (covariance_type='tied'). The model is fitted to the standardized geospatial feature vectors (features_scaled), which may include spectral bands and radar data. Once trained, it assigns a cluster label to each valid pixel. These labels are stored in a 1D array (gmm_labels) and then mapped back to their corresponding pixel positions using the valid_mask. The final map (gmm_map) is reshaped into the original image dimensions (height × width), producing a spatially explicit land cover classification map based on GMM clustering."
      ],
      "metadata": {
        "id": "hSAu2mLUMTVQ"
      }
    },
    {
      "cell_type": "code",
      "source": [
        "# Initialize the Gaussian Mixture Model with 5 components\n",
        "# 'tied' means all clusters share the same covariance matrix (efficient and stable)\n",
        "gmm = GaussianMixture(n_components=5, covariance_type='tied', random_state=42)\n",
        "\n",
        "# Fit the model to the scaled pixel features and predict cluster assignments\n",
        "gmm_labels = gmm.fit_predict(features_scaled)\n",
        "\n",
        "# Create an empty array the same size as the full image (flattened), filled with -1\n",
        "# This ensures unclassified (invalid) pixels remain marked\n",
        "gmm_map = np.full(r.shape, fill_value=-1)\n",
        "\n",
        "# Assign cluster labels only to valid pixels (e.g., non-NaN)\n",
        "gmm_map[valid_mask] = gmm_labels\n",
        "\n",
        "# Reshape the 1D map into a 2D image for display or export\n",
        "gmm_map = gmm_map.reshape((height, width))"
      ],
      "metadata": {
        "id": "9MkC4MBiAeak"
      },
      "execution_count": null,
      "outputs": []
    },
    {
      "cell_type": "markdown",
      "source": [
        "Next, display the Gaussian Mixture Model (GMM) clustered map."
      ],
      "metadata": {
        "id": "Ak7JdVPrAjZs"
      }
    },
    {
      "cell_type": "code",
      "source": [
        "# Create a figure and axis for plotting the land cover map\n",
        "fig, ax = plt.subplots(figsize=(10, 8))  # Set figure size in inches (width, height)\n",
        "\n",
        "# Display the GMM clustering result as an image using a categorical colormap ('tab10')\n",
        "im = ax.imshow(gmm_map, cmap='tab10')\n",
        "\n",
        "# Add a title to the map with increased font size\n",
        "ax.set_title('Land Cover Map (GMM)', fontsize=14)\n",
        "\n",
        "# Turn off axis ticks and labels for a cleaner visual presentation\n",
        "ax.axis('off')\n",
        "\n",
        "# Create a divider to append a colorbar axis next to the plot\n",
        "from mpl_toolkits.axes_grid1 import make_axes_locatable\n",
        "divider = make_axes_locatable(ax)\n",
        "\n",
        "# Append a new axis to the right side for the colorbar\n",
        "cax = divider.append_axes(\"right\", size=\"3%\", pad=0.05)\n",
        "\n",
        "# Create and display the colorbar linked to the image, showing cluster IDs\n",
        "cbar = plt.colorbar(im, cax=cax)\n",
        "cbar.set_label('Cluster')  # Add a label to the colorbar\n",
        "\n",
        "# Automatically adjust layout spacing to prevent overlap\n",
        "plt.tight_layout()\n",
        "\n",
        "# Display the final map with the colorbar\n",
        "plt.show()"
      ],
      "metadata": {
        "id": "4fX9sU05Nrt6"
      },
      "execution_count": null,
      "outputs": []
    },
    {
      "cell_type": "markdown",
      "source": [
        "### Display clustered maps\n",
        "Next, display all the K-Means, MiniBatch K-Means, and GMM clustered maps."
      ],
      "metadata": {
        "id": "zjgLR8YXP-l9"
      }
    },
    {
      "cell_type": "code",
      "source": [
        "# Visualization\n",
        "fig, axs = plt.subplots(1, 3, figsize=(20, 7))\n",
        "\n",
        "# KMeans Map\n",
        "im0 = axs[0].imshow(kmeans_map, cmap='tab10')\n",
        "axs[0].set_title('KMeans Clustering')\n",
        "axs[0].axis('off')\n",
        "\n",
        "# MiniBatch KMeans Map\n",
        "im1 = axs[1].imshow(mb_kmeans_map, cmap='tab10')\n",
        "axs[1].set_title('MiniBatch KMeans Clustering')\n",
        "axs[1].axis('off')\n",
        "\n",
        "# GMM Map\n",
        "im2 = axs[2].imshow(gmm_map, cmap='tab10')\n",
        "axs[2].set_title('Gaussian Mixture Model (GMM)')\n",
        "axs[2].axis('off')\n",
        "\n",
        "plt.tight_layout()\n",
        "plt.show()"
      ],
      "metadata": {
        "id": "tiMr_AcEG1PL"
      },
      "execution_count": null,
      "outputs": []
    },
    {
      "cell_type": "markdown",
      "source": [
        "### Assign class names\n",
        "Next, assign class names to the K-Means clustered map."
      ],
      "metadata": {
        "id": "wREmuqUmIYQ8"
      }
    },
    {
      "cell_type": "code",
      "source": [
        "# Class name mapping\n",
        "class_names = {\n",
        "    0: 'Cropland',\n",
        "    1: 'Dense Vegetation',\n",
        "    2: 'Sparse Vegetation',\n",
        "    3: 'Built-up',\n",
        "    4: 'Bare Soil'\n",
        "}\n",
        "\n",
        "# Color mapping (can be hex or named colors)\n",
        "class_colors = {\n",
        "    0: '#FFFF00',   # yellow\n",
        "    1: '#2ca02c',   # dark green\n",
        "    2: '#98df8a',   # light green\n",
        "    3: '#d62728',   # red\n",
        "    4: '#8c564b'    # brown\n",
        "}\n",
        "\n",
        "# Create color list sorted by cluster ID\n",
        "color_list = [class_colors[i] for i in sorted(class_colors)]\n",
        "custom_cmap = mcolors.ListedColormap(color_list)\n",
        "\n",
        "# Create map\n",
        "fig, ax = plt.subplots(figsize=(10, 8))\n",
        "im = ax.imshow(kmeans_map, cmap=custom_cmap, vmin=0, vmax=4)\n",
        "ax.set_title('KMeans Land Cover', fontsize=14)\n",
        "ax.axis('off')\n",
        "\n",
        "# Create custom legend\n",
        "legend_handles = [\n",
        "    mpatches.Patch(color=class_colors[i], label=class_names[i])\n",
        "    for i in sorted(class_names)\n",
        "]\n",
        "plt.legend(handles=legend_handles, loc='lower center', bbox_to_anchor=(0.5, -0.1),\n",
        "           ncol=3, frameon=False)\n",
        "\n",
        "plt.tight_layout()\n",
        "plt.show()"
      ],
      "metadata": {
        "id": "hkK9pLm5QnJ8"
      },
      "execution_count": null,
      "outputs": []
    },
    {
      "cell_type": "markdown",
      "source": [
        "## Export the Clustered Land Cover Maps\n",
        "We can save the land cover maps to a new GeoTIFF using rasterio and export to Google Drive."
      ],
      "metadata": {
        "id": "Aft_fLsTAoUJ"
      }
    },
    {
      "cell_type": "code",
      "source": [
        "# Save clustered land cover map\n",
        "# Helper function to export a map\n",
        "def export_cluster_map(map_array, output_path, profile):\n",
        "    with rasterio.open(\n",
        "        output_path, 'w',\n",
        "        driver='GTiff',\n",
        "        height=map_array.shape[0],\n",
        "        width=map_array.shape[1],\n",
        "        count=1,\n",
        "        dtype=np.uint8,\n",
        "        crs=profile['crs'],\n",
        "        transform=profile['transform']\n",
        "    ) as dst:\n",
        "        dst.write(map_array.astype(np.uint8), 1)\n",
        "\n",
        "# Paths to save the maps\n",
        "kmeans_path = '/content/drive/MyDrive/Bulawayo_Dataset_2024/Bul_LC_KMeans_2024.tif'\n",
        "mbkmeans_path = '/content/drive/MyDrive/Bulawayo_Dataset_2024/Bul_LC_MBKMeans_2024.tif'\n",
        "gmm_path = '/content/drive/MyDrive/Bulawayo_Dataset_2024/Bul_LC_GMM_2024.tif'\n",
        "\n",
        "# Export each clustered map\n",
        "export_cluster_map(kmeans_map, kmeans_path, profile)\n",
        "export_cluster_map(mb_kmeans_map, mbkmeans_path, profile)\n",
        "export_cluster_map(gmm_map, gmm_path, profile)\n",
        "\n",
        "print(\"All cluster maps exported as GeoTIFFs to Google Drive.\")"
      ],
      "metadata": {
        "id": "sSzD142Gji8V"
      },
      "execution_count": null,
      "outputs": []
    }
  ]
}