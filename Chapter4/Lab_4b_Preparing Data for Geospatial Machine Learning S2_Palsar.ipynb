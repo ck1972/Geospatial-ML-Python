{
 "cells": [
  {
   "cell_type": "markdown",
   "metadata": {
    "id": "SncSpvGm2VUS"
   },
   "source": [
    "# **Preparing Training Data for Land Cover Mapping: Optical and SAR data**\n",
    "## Introduction\n",
    "The aim of this tutorial is to prepare high-quality training data for land cover mapping by integrating Sentinel-2 optical imagery with ALOS-PALSAR radar data. Combining these two complementary datasets enhances the ability to distinguish between different land cover types, especially in areas where where radar backscatter provides valuable structural information.\n",
    "\n",
    "### Check tutorial for preparing training data (polygons)\n",
    "- Watch Youtube video tutorial: https://www.youtube.com/watch?v=k--M1a-V_x4\n"
   ]
  },
  {
   "cell_type": "markdown",
   "metadata": {
    "id": "DoerQ1ama7Fh"
   },
   "source": [
    "## Initialize and authenticate Earth Engine\n",
    "To get started with Google Earth Engine (GEE), you need to initialize and authenticate the Earth Engine API. Follow these steps.\n",
    "\n",
    "\n",
    "First, import the Earth Engine API by importing the ee module into your Python environment. This module allows you to interact with the Earth Engine platform.\n"
   ]
  },
  {
   "cell_type": "code",
   "execution_count": null,
   "metadata": {
    "colab": {
     "base_uri": "https://localhost:8080/",
     "height": 17
    },
    "executionInfo": {
     "elapsed": 16,
     "status": "ok",
     "timestamp": 1743437390474,
     "user": {
      "displayName": "Courage Kamusoko",
      "userId": "11708481286302125126"
     },
     "user_tz": -540
    },
    "id": "7a6_vlZcOZPU",
    "outputId": "14e86e8a-a292-471c-cd55-c2c4f3062417"
   },
   "outputs": [
    {
     "data": {
      "text/html": [
       "\n",
       "            <style>\n",
       "                .geemap-dark {\n",
       "                    --jp-widgets-color: white;\n",
       "                    --jp-widgets-label-color: white;\n",
       "                    --jp-ui-font-color1: white;\n",
       "                    --jp-layout-color2: #454545;\n",
       "                    background-color: #383838;\n",
       "                }\n",
       "\n",
       "                .geemap-dark .jupyter-button {\n",
       "                    --jp-layout-color3: #383838;\n",
       "                }\n",
       "\n",
       "                .geemap-colab {\n",
       "                    background-color: var(--colab-primary-surface-color, white);\n",
       "                }\n",
       "\n",
       "                .geemap-colab .jupyter-button {\n",
       "                    --jp-layout-color3: var(--colab-primary-surface-color, white);\n",
       "                }\n",
       "            </style>\n",
       "            "
      ],
      "text/plain": [
       "<IPython.core.display.HTML object>"
      ]
     },
     "metadata": {},
     "output_type": "display_data"
    }
   ],
   "source": [
    "# Import the API\n",
    "import ee\n",
    "\n",
    "# Import the geemap library\n",
    "import geemap"
   ]
  },
  {
   "cell_type": "markdown",
   "metadata": {
    "id": "8V9idAmhc8X7"
   },
   "source": [
    "Next, initialize the Earth Engine API. You must initialize the API to use Earth Engine functionalities. This involves authenticating your session and initializing the library. When you run the ee.Initialize() command for the first time, you might be prompted to authenticate your session. This will open a web browser window where you need to log in with your Google account and grant Earth Engine access."
   ]
  },
  {
   "cell_type": "code",
   "execution_count": null,
   "metadata": {
    "colab": {
     "base_uri": "https://localhost:8080/",
     "height": 17
    },
    "executionInfo": {
     "elapsed": 1122,
     "status": "ok",
     "timestamp": 1743437394936,
     "user": {
      "displayName": "Courage Kamusoko",
      "userId": "11708481286302125126"
     },
     "user_tz": -540
    },
    "id": "0hGRqMB4PN7N",
    "outputId": "44d17732-b5b2-4262-c854-c3c22252b198"
   },
   "outputs": [
    {
     "data": {
      "text/html": [
       "\n",
       "            <style>\n",
       "                .geemap-dark {\n",
       "                    --jp-widgets-color: white;\n",
       "                    --jp-widgets-label-color: white;\n",
       "                    --jp-ui-font-color1: white;\n",
       "                    --jp-layout-color2: #454545;\n",
       "                    background-color: #383838;\n",
       "                }\n",
       "\n",
       "                .geemap-dark .jupyter-button {\n",
       "                    --jp-layout-color3: #383838;\n",
       "                }\n",
       "\n",
       "                .geemap-colab {\n",
       "                    background-color: var(--colab-primary-surface-color, white);\n",
       "                }\n",
       "\n",
       "                .geemap-colab .jupyter-button {\n",
       "                    --jp-layout-color3: var(--colab-primary-surface-color, white);\n",
       "                }\n",
       "            </style>\n",
       "            "
      ],
      "text/plain": [
       "<IPython.core.display.HTML object>"
      ]
     },
     "metadata": {},
     "output_type": "display_data"
    }
   ],
   "source": [
    "# Trigger the authentication flow.\n",
    "ee.Authenticate()\n",
    "\n",
    "# Initialize the library.\n",
    "ee.Initialize(project='ee-kamusoko-test') # Change to your EE project"
   ]
  },
  {
   "cell_type": "markdown",
   "metadata": {
    "id": "6rzLzHwHHyNe"
   },
   "source": [
    "## Import study area boundary\n",
    "First, import the study area boundary."
   ]
  },
  {
   "cell_type": "code",
   "execution_count": null,
   "metadata": {
    "colab": {
     "base_uri": "https://localhost:8080/",
     "height": 17
    },
    "executionInfo": {
     "elapsed": 49,
     "status": "ok",
     "timestamp": 1743447746362,
     "user": {
      "displayName": "Courage Kamusoko",
      "userId": "11708481286302125126"
     },
     "user_tz": -540
    },
    "id": "ixeL13nmHreX",
    "outputId": "91570369-aa03-4198-efbe-028183c8a3b4"
   },
   "outputs": [
    {
     "data": {
      "text/html": [
       "\n",
       "            <style>\n",
       "                .geemap-dark {\n",
       "                    --jp-widgets-color: white;\n",
       "                    --jp-widgets-label-color: white;\n",
       "                    --jp-ui-font-color1: white;\n",
       "                    --jp-layout-color2: #454545;\n",
       "                    background-color: #383838;\n",
       "                }\n",
       "\n",
       "                .geemap-dark .jupyter-button {\n",
       "                    --jp-layout-color3: #383838;\n",
       "                }\n",
       "\n",
       "                .geemap-colab {\n",
       "                    background-color: var(--colab-primary-surface-color, white);\n",
       "                }\n",
       "\n",
       "                .geemap-colab .jupyter-button {\n",
       "                    --jp-layout-color3: var(--colab-primary-surface-color, white);\n",
       "                }\n",
       "            </style>\n",
       "            "
      ],
      "text/plain": [
       "<IPython.core.display.HTML object>"
      ]
     },
     "metadata": {},
     "output_type": "display_data"
    }
   ],
   "source": [
    "# Load the boundary\n",
    "boundary = ee.FeatureCollection('users/kamas72_ML_Zim_Cities/Bulawayo_Crop_Boundary')"
   ]
  },
  {
   "cell_type": "markdown",
   "metadata": {
    "id": "76K5l09OI7zm"
   },
   "source": [
    "## Import training data\n",
    "Next, we will import land cover training data (polygons), which was created in QGIS."
   ]
  },
  {
   "cell_type": "code",
   "execution_count": null,
   "metadata": {
    "colab": {
     "base_uri": "https://localhost:8080/",
     "height": 139
    },
    "executionInfo": {
     "elapsed": 462,
     "status": "ok",
     "timestamp": 1743447749575,
     "user": {
      "displayName": "Courage Kamusoko",
      "userId": "11708481286302125126"
     },
     "user_tz": -540
    },
    "id": "wy3ft4D1JRu6",
    "outputId": "b98b6a62-10f9-4f5e-c914-02ca03999893"
   },
   "outputs": [
    {
     "data": {
      "text/html": [
       "\n",
       "            <style>\n",
       "                .geemap-dark {\n",
       "                    --jp-widgets-color: white;\n",
       "                    --jp-widgets-label-color: white;\n",
       "                    --jp-ui-font-color1: white;\n",
       "                    --jp-layout-color2: #454545;\n",
       "                    background-color: #383838;\n",
       "                }\n",
       "\n",
       "                .geemap-dark .jupyter-button {\n",
       "                    --jp-layout-color3: #383838;\n",
       "                }\n",
       "\n",
       "                .geemap-colab {\n",
       "                    background-color: var(--colab-primary-surface-color, white);\n",
       "                }\n",
       "\n",
       "                .geemap-colab .jupyter-button {\n",
       "                    --jp-layout-color3: var(--colab-primary-surface-color, white);\n",
       "                }\n",
       "            </style>\n",
       "            "
      ],
      "text/plain": [
       "<IPython.core.display.HTML object>"
      ]
     },
     "metadata": {},
     "output_type": "display_data"
    },
    {
     "name": "stdout",
     "output_type": "stream",
     "text": [
      "Number of training polygons per land cover class (Cl_Id):\n",
      "Bare areas (Cl_Id=0): 154\n",
      "Built-up (Cl_Id=1): 806\n",
      "Cropland (Cl_Id=2): 169\n",
      "Grass / open areas (Cl_Id=3): 495\n",
      "Woodlands (Cl_Id=4): 335\n",
      "Water (Cl_Id=5): 19\n"
     ]
    }
   ],
   "source": [
    "# Load training datasets\n",
    "training_data = ee.FeatureCollection('users/kamas72_ML_Zim_Cities/Updated_TA_2020_Bul_May_21_GEE')\n",
    "\n",
    "# Get the histogram of classes (key = class value, value = count)\n",
    "histogram = training_data.aggregate_histogram('Cl_Id').getInfo()\n",
    "\n",
    "# Define a label map for clarity\n",
    "label_map = {\n",
    "    '0': \"Bare areas\",\n",
    "    '1': \"Built-up\",\n",
    "    '2': \"Cropland\",\n",
    "    '3': \"Grass / open areas\",\n",
    "    '4': \"Woodlands\",\n",
    "    '5': \"Water\"\n",
    "}\n",
    "\n",
    "print(\"Number of training polygons per land cover class (Cl_Id):\")\n",
    "for cl_id in sorted(histogram.keys(), key=int):\n",
    "    label = label_map.get(cl_id, f\"Class {cl_id}\")\n",
    "    print(f\"{label} (Cl_Id={cl_id}): {histogram[cl_id]}\")"
   ]
  },
  {
   "cell_type": "markdown",
   "metadata": {
    "id": "fQtiCfzBjCBk"
   },
   "source": [
    "## Create Sentinel-2 composite\n",
    "The sentinel-2 mission offers a wide-swath, high-resolution, multispectral imaging capability with a global 5-day revisit frequency. The Sentinel-2 Multispectral Instrument (MSI) has 13 spectral bands, providing a comprehensive view of the Earth's surface. These bands are distributed as four at 10 meters, six at 20 meters, and three at 60 meters spatial resolution. For more detailed information about the Sentinel-2 mission, please visit https://sentinel.esa.int/web/sentinel/missions/sentinel-2.\n"
   ]
  },
  {
   "cell_type": "code",
   "execution_count": null,
   "metadata": {
    "colab": {
     "base_uri": "https://localhost:8080/",
     "height": 17
    },
    "executionInfo": {
     "elapsed": 21,
     "status": "ok",
     "timestamp": 1743447752863,
     "user": {
      "displayName": "Courage Kamusoko",
      "userId": "11708481286302125126"
     },
     "user_tz": -540
    },
    "id": "YHrK17UDj542",
    "outputId": "5eaff897-4016-4f87-cf33-7836dd5d94cb"
   },
   "outputs": [
    {
     "data": {
      "text/html": [
       "\n",
       "            <style>\n",
       "                .geemap-dark {\n",
       "                    --jp-widgets-color: white;\n",
       "                    --jp-widgets-label-color: white;\n",
       "                    --jp-ui-font-color1: white;\n",
       "                    --jp-layout-color2: #454545;\n",
       "                    background-color: #383838;\n",
       "                }\n",
       "\n",
       "                .geemap-dark .jupyter-button {\n",
       "                    --jp-layout-color3: #383838;\n",
       "                }\n",
       "\n",
       "                .geemap-colab {\n",
       "                    background-color: var(--colab-primary-surface-color, white);\n",
       "                }\n",
       "\n",
       "                .geemap-colab .jupyter-button {\n",
       "                    --jp-layout-color3: var(--colab-primary-surface-color, white);\n",
       "                }\n",
       "            </style>\n",
       "            "
      ],
      "text/plain": [
       "<IPython.core.display.HTML object>"
      ]
     },
     "metadata": {},
     "output_type": "display_data"
    }
   ],
   "source": [
    "# Sentinel-2 SR data (Harmonized)\n",
    "s2 = ee.ImageCollection('COPERNICUS/S2_SR_HARMONIZED')\n",
    "\n",
    "# Cloud masking function using SCL band\n",
    "def mask_s2clouds(image):\n",
    "    scl = image.select('SCL')\n",
    "    mask = scl.neq(8).And(scl.neq(9)).And(scl.neq(10)).And(scl.neq(11))\n",
    "    return image.updateMask(mask).divide(10000)\n",
    "\n",
    "# Filter and preprocess Sentinel-2 data\n",
    "S2 = (s2.filterBounds(boundary)\n",
    "      .filterDate('2024-03-01', '2024-06-30')\n",
    "      .filter(ee.Filter.lt('CLOUDY_PIXEL_PERCENTAGE', 10))\n",
    "      .map(mask_s2clouds)\n",
    "      .select(['B2','B3','B4','B5','B6','B7','B8','B11','B12']))\n",
    "\n",
    "# Bands to include in the classification\n",
    "bands = ['B2', 'B3', 'B4', 'B5', 'B6', 'B7', 'B8', 'B11', 'B12']\n",
    "\n",
    "# Create a median composite\n",
    "composite = S2.median().clip(boundary)"
   ]
  },
  {
   "cell_type": "markdown",
   "metadata": {
    "id": "ObXExkUz_7Dz"
   },
   "source": [
    "## Create ALOS PALSAR-2 ScanSAR composite\n",
    "ALOS PALSAR-2 (Advanced Land Observing Satellite – Phased Array type L-band Synthetic Aperture Radar) is a Japanese L-band radar sensor (Japan Aerospace Exploration Agency). The ScanSAR mode allows wide-area coverage (up to 350 km swath) by scanning multiple sub-swaths, making it useful for regional-scale monitoring. It operates in L-band, which penetrates vegetation and soil, making it ideal for forest mapping, flood detection, and land deformation studies. The 25 m PALSAR-2 ScanSAR (Google Earth Engine catalog) is normalized backscatter data of PALSAR-2 broad area observation mode with observation width of 350 km. The SAR imagery was ortho-rectificatied and slope corrected using the ALOS World 3D - 30 m (AW3D30) Digital Surface Model. Polarization data are stored as 16-bit digital numbers (DN).\n",
    "\n",
    "We will normalize the PALSAR backscatter values (HH and HV) to the range [0, 1] in Earth Engine, you can use .unitScale(min, max). For ALOS PALSAR backscatter in DN (digital number) format, typical values range from 0 to 8000."
   ]
  },
  {
   "cell_type": "code",
   "execution_count": null,
   "metadata": {
    "colab": {
     "base_uri": "https://localhost:8080/",
     "height": 17
    },
    "executionInfo": {
     "elapsed": 5,
     "status": "ok",
     "timestamp": 1743447755881,
     "user": {
      "displayName": "Courage Kamusoko",
      "userId": "11708481286302125126"
     },
     "user_tz": -540
    },
    "id": "jcM2eg59_8E1",
    "outputId": "3ff1ddc3-43dd-4dc8-bdc6-fc57b57d6896"
   },
   "outputs": [
    {
     "data": {
      "text/html": [
       "\n",
       "            <style>\n",
       "                .geemap-dark {\n",
       "                    --jp-widgets-color: white;\n",
       "                    --jp-widgets-label-color: white;\n",
       "                    --jp-ui-font-color1: white;\n",
       "                    --jp-layout-color2: #454545;\n",
       "                    background-color: #383838;\n",
       "                }\n",
       "\n",
       "                .geemap-dark .jupyter-button {\n",
       "                    --jp-layout-color3: #383838;\n",
       "                }\n",
       "\n",
       "                .geemap-colab {\n",
       "                    background-color: var(--colab-primary-surface-color, white);\n",
       "                }\n",
       "\n",
       "                .geemap-colab .jupyter-button {\n",
       "                    --jp-layout-color3: var(--colab-primary-surface-color, white);\n",
       "                }\n",
       "            </style>\n",
       "            "
      ],
      "text/plain": [
       "<IPython.core.display.HTML object>"
      ]
     },
     "metadata": {},
     "output_type": "display_data"
    }
   ],
   "source": [
    "# Load ALOS PALSAR-2 ScanSAR image collection and filter by boundary and date\n",
    "collection = (\n",
    "    ee.ImageCollection('JAXA/ALOS/PALSAR-2/Level2_2/ScanSAR')\n",
    "    .filterBounds(boundary)\n",
    "    .filterDate('2024-03-01', '2024-06-30')\n",
    ")\n",
    "\n",
    "# Compute median composites for HH and HV\n",
    "Palsar_median_HH = collection.select('HH').median().clip(boundary).unitScale(0, 8000)\n",
    "Palsar_median_HV = collection.select('HV').median().clip(boundary).unitScale(0, 8000)"
   ]
  },
  {
   "cell_type": "code",
   "execution_count": null,
   "metadata": {
    "colab": {
     "base_uri": "https://localhost:8080/",
     "height": 17
    },
    "executionInfo": {
     "elapsed": 28,
     "status": "ok",
     "timestamp": 1743447759727,
     "user": {
      "displayName": "Courage Kamusoko",
      "userId": "11708481286302125126"
     },
     "user_tz": -540
    },
    "id": "dPHl4-cWBvdo",
    "outputId": "79f1cb92-5550-454a-be87-ba49f4a0958c"
   },
   "outputs": [
    {
     "data": {
      "text/html": [
       "\n",
       "            <style>\n",
       "                .geemap-dark {\n",
       "                    --jp-widgets-color: white;\n",
       "                    --jp-widgets-label-color: white;\n",
       "                    --jp-ui-font-color1: white;\n",
       "                    --jp-layout-color2: #454545;\n",
       "                    background-color: #383838;\n",
       "                }\n",
       "\n",
       "                .geemap-dark .jupyter-button {\n",
       "                    --jp-layout-color3: #383838;\n",
       "                }\n",
       "\n",
       "                .geemap-colab {\n",
       "                    background-color: var(--colab-primary-surface-color, white);\n",
       "                }\n",
       "\n",
       "                .geemap-colab .jupyter-button {\n",
       "                    --jp-layout-color3: var(--colab-primary-surface-color, white);\n",
       "                }\n",
       "            </style>\n",
       "            "
      ],
      "text/plain": [
       "<IPython.core.display.HTML object>"
      ]
     },
     "metadata": {},
     "output_type": "display_data"
    }
   ],
   "source": [
    "# Load Sentinel-1 Image Collection and filter by bounds, metadata, and date (Not available)\n",
    "collection_S1 = (\n",
    "    ee.ImageCollection('COPERNICUS/S1_GRD')\n",
    "    .filterBounds(boundary)\n",
    "    .filterMetadata('instrumentMode', 'equals', 'IW')\n",
    "    .filterDate('2023-03-01', '2024-06-30')\n",
    ")\n",
    "\n",
    "# Filter for dual polarization (VV and VH)\n",
    "collection_S1_VV_VH = (\n",
    "    collection_S1\n",
    "    .filter(ee.Filter.listContains('transmitterReceiverPolarisation', 'VV'))\n",
    "    .filter(ee.Filter.listContains('transmitterReceiverPolarisation', 'VH'))\n",
    ")\n",
    "\n",
    "# Filter for ascending orbit\n",
    "collection_S1_ASC = collection_S1_VV_VH.filter(ee.Filter.eq('orbitProperties_pass', 'ASCENDING'))\n",
    "\n",
    "# Compute median composites for VV and VH\n",
    "S1_median_ASC_VV = collection_S1_ASC.select('VV').median().clip(boundary)\n",
    "S1_median_ASC_VH = collection_S1_ASC.select('VH').median().clip(boundary)"
   ]
  },
  {
   "cell_type": "markdown",
   "metadata": {
    "id": "gEgM_Yg7r3nE"
   },
   "source": [
    "## Display training samples and Sentine-2\n",
    "Next, display the land cover training samples on Sentinel-2 imagery"
   ]
  },
  {
   "cell_type": "code",
   "execution_count": null,
   "metadata": {
    "colab": {
     "base_uri": "https://localhost:8080/",
     "height": 621,
     "referenced_widgets": [
      "d0a2caf9fad14398a9df4cdd4c36b962",
      "4a5f9678a7a1475e9d153db35d1d9fda",
      "86b5a360d04345d6b8ce5d8819b33fc2",
      "85092b92502c4deca59304967bf32b36",
      "a894df19eabd49d0926e328c2e44a541",
      "9f00ac91cc4f47988efaa8136d428068",
      "788b60c87a1e47fb865f90cf203f0612",
      "6f8a8e2c26fc4188a94fbf8d11ead77c",
      "a32bf22eb5dd4c879dfa4f3fabd1c85f",
      "2eac1c59816a429384e100a00a7a5fd8",
      "7d196e01f3be4fc2b8b131508af6b068",
      "741277ba2d60447695ad375f4e0f8df8",
      "a15203b251d7450380847715511c6085",
      "01777eea28cc4bbf8f10c93842e921f0",
      "bc80ac90bc04419b9625e29820a6c882",
      "d5cc85d76b1b49c5888102f885ad890f",
      "a80eaa232adb485aaaf0e2df04c8bf71",
      "3a20b44c8c764d83936c3079a84b75b6",
      "9683b7f1549548c0b4dbe5d4d27e8504",
      "e165ace882864c88bb0fa59eccda9fb9",
      "067debb8b4674172812a7645d666d9e2",
      "3ebd242989704c8b8620516bf5e91c55",
      "c7d67bff2af344329fe9999f6addf7db",
      "b30d35465fd9426a9f9176e45ef890ee",
      "7a4c1d45d049473c95983bb09e126f1e",
      "04ed5583609e4027b0c1823046d3a6b0",
      "f07d68e357554d07bc01a89c175bfe57",
      "d63faa86be5f4c3b9b991f9bd63a672a",
      "3f7c116c85ee421d98d38a70ccf623ee",
      "633eab23d053416f9cb3f70b29549cef",
      "37e34d7e69104d548a4cd45fee7cdf4c",
      "a4c599f9a47440e6ac25df8911b9ba3c",
      "5cc9e5ec0eb24cae89b09b3d86bb710a",
      "d79946577c654a18b285600a43e42bca",
      "dcf7f4be6c144804986653fe59b04176",
      "7530da920158493a94e6bf27a960de33",
      "3ecbd8f638e34be4858b878b5737aae5",
      "d253e054f081458bafe6ebe9c3a45055",
      "e23e813df95545809696782e5771834a",
      "84421163284a4668a594e7d087a430e2",
      "b7d7706f08bd47c09b21b65cd5510e28",
      "e5a3fe09b1904d948ab43841117eb421",
      "66c4e662abf049a68435305aa36ce6d6",
      "741afd90b5444f1badc1d3a5b3963395",
      "7d10bfee937e4d1fa2a388a344bccbb2",
      "a7246ae422374fd2ab9cc84642e925dc",
      "536e7a76baee498e8c51955241c66da6",
      "a7519e1de7664b388c901d5cdeda8a31",
      "a541af17365d46e39f901b0c74c55f1b",
      "2032dc2450e640ef9fbad15147de8230",
      "e258f40694e94f41a8525ac02f00a607",
      "5a42fe596c0448b39faccffba473db56",
      "e33057d5b08748d1ba683cc5329c0442",
      "0ececa4fd2384260811ee9c98152eabf",
      "980584a3532e4a2294167c5209e6c75f",
      "86fc8b622bc5487daa8298db1932301a",
      "eee4ba5c213b4557825a907c1e89a0d3",
      "7a0e7973c3f548a29aba6a0f3592bd99",
      "04f2020a01cc476db3e64a7e4832da6c",
      "2d6309beb7814a20a63631e19d837c23",
      "0e0907e076eb4e7ea15ee9f274a9ca43",
      "b58f28ffcef246baad18cdfcaddf35fa",
      "d080394650f14899bda7b5da41212e62",
      "faead86d393447698e5a675bd40a2f63",
      "f76d6a4e035841429e4a69886e712ad5",
      "ad161d9a74fd448cbcb46b872c044f1b",
      "6ff4e8087416442e867b704d885a935d",
      "74662bc6677945348216f0217183c414",
      "b9069da008f44c2d8a4f9b1dd2d7b985",
      "94c9f2ca966a4c96866a017306c70643",
      "679418ab35b34cb2a4ff99b3eb1682e8",
      "fefb392e990c47b5a1b9cd8dbe96e29d",
      "c2ad3c44944b4249b79b3c9ea70ab73b",
      "9b7d4ef700154a0fbf51d6d5ed94b5f4",
      "efc570dd5a7d4cc9b564397fcee77f59",
      "222946042c844855a1d938a0fcf25272",
      "7dc92a3e4bd148e48c1aa7ffdb90221b",
      "4500edd3d92c48faa961e754af3e6653",
      "046544c391c14f3d9b6821b99954e630",
      "9ea913c207bf4dd8bb3301019262c5bc",
      "c4311b73a1cc4cb39d4d8c2273620f3e",
      "1faa061a6d864932b348d2a4ef2b111a",
      "aebc9846ff2245da964f57793cc40b51",
      "e13d4f034c7246388e6f035b51b52621",
      "6cfe0e8ca1fb490ea324d9754037601e",
      "e140853afb824e12b9a27ff5f831f368",
      "5461c6baa6f549bc85750badb1942748",
      "48ea145728dd45a6a64b76b53647ca77",
      "80180fdc234d47f2a84eb9e3a3459012",
      "9cfabdc5fdbc4cab8e4cf997cb9b8500",
      "ec1e0385dc854374a7597d1e88e50607",
      "c9ee9c6c272a43bfbd1961b7d9419e6d",
      "1d325acc810e45fe95cd9bc3038203d4",
      "205ed3400790459399cae6a84adf5994",
      "2486390db3a04b07afd2e9a4344ff4b9",
      "28068bf70ab942c29e8a0c57bdc79e52",
      "db060bbebb1a4bbaa9d2661d2ded7d57",
      "4e6f23a70c7c42d581824bcf17d1c42a",
      "67cd476f17c44be8a45f143830191a94",
      "945c3fd65b5f4eb7924dd252382bcba0",
      "51ae528e5c734b7eb4af433a358ab49d",
      "cf29dd45d5ca49ef93c198fa4d526500",
      "269cfa2a01db48d489fd34ce6b48903b",
      "f155bd0063d2424f9b174490fa7f3327",
      "0036ce5494ea4bf7b66de5757f589992",
      "7e6c4d83c1854753a2a3b62feb6d9620",
      "b55e5f848d1d46acbdd40862b1626cd2",
      "fe62bdd256e84335a4e40af5ca784d36",
      "3aacf34f7c1a483f937d587f606a7d67",
      "c1f080ca3afd4576ba385e1645031f9f",
      "d211c3c6b4e34781b9de14ebec533cd1",
      "8ff7f4ca8bb64df9b634c069bb94f023",
      "a17760a77b3a4fbdac21bcbeb389f0b4",
      "d0e187dc2a5c428cba739f3d68440dc0",
      "c3f201121f334d0f9c1420951fc6826f",
      "4ff49ba70b7f4b5191b9bf6f46f18407",
      "edaab65fb6014000af98092207e2cc1c",
      "8a4079c3c074453693613a310e703491",
      "bb3bcc09989941649b45ce5b0c39b478",
      "f3a3892cff0a4d128e48277e12c71ee1",
      "f9fc1d5b9ae14a8c8ce581bba1de6b26"
     ]
    },
    "executionInfo": {
     "elapsed": 2845,
     "status": "ok",
     "timestamp": 1743447776225,
     "user": {
      "displayName": "Courage Kamusoko",
      "userId": "11708481286302125126"
     },
     "user_tz": -540
    },
    "id": "L0jVI-EZoOYB",
    "outputId": "c8d913fd-343a-4751-bf92-7cab41501097"
   },
   "outputs": [
    {
     "data": {
      "text/html": [
       "\n",
       "            <style>\n",
       "                .geemap-dark {\n",
       "                    --jp-widgets-color: white;\n",
       "                    --jp-widgets-label-color: white;\n",
       "                    --jp-ui-font-color1: white;\n",
       "                    --jp-layout-color2: #454545;\n",
       "                    background-color: #383838;\n",
       "                }\n",
       "\n",
       "                .geemap-dark .jupyter-button {\n",
       "                    --jp-layout-color3: #383838;\n",
       "                }\n",
       "\n",
       "                .geemap-colab {\n",
       "                    background-color: var(--colab-primary-surface-color, white);\n",
       "                }\n",
       "\n",
       "                .geemap-colab .jupyter-button {\n",
       "                    --jp-layout-color3: var(--colab-primary-surface-color, white);\n",
       "                }\n",
       "            </style>\n",
       "            "
      ],
      "text/plain": [
       "<IPython.core.display.HTML object>"
      ]
     },
     "metadata": {},
     "output_type": "display_data"
    },
    {
     "data": {
      "application/vnd.jupyter.widget-view+json": {
       "model_id": "d0a2caf9fad14398a9df4cdd4c36b962",
       "version_major": 2,
       "version_minor": 0
      },
      "text/plain": [
       "Map(center=[-20.071642895480387, 28.547525199943355], controls=(WidgetControl(options=['position', 'transparen…"
      ]
     },
     "metadata": {
      "application/vnd.jupyter.widget-view+json": {
       "colab": {
        "custom_widget_manager": {
         "url": "https://ssl.gstatic.com/colaboratory-static/widgets/colab-cdn-widget-manager/2b70e893a8ba7c0f/manager.min.js"
        }
       }
      }
     },
     "output_type": "display_data"
    }
   ],
   "source": [
    "# Initialize the map\n",
    "map = geemap.Map()\n",
    "map.centerObject(training_data, 12)\n",
    "\n",
    "# Add Sentinel-2 composite\n",
    "map.addLayer(composite, {'bands': ['B11', 'B8', 'B3'], 'min': 0, 'max': 0.3}, 'Sentinel-2 Composite')\n",
    "\n",
    "# Add PALSAR ScanScar layers to the map\n",
    "map.addLayer(Palsar_median_HH, {'min': 0, 'max': 1}, 'PALSAR Median HH')\n",
    "map.addLayer(Palsar_median_HV, {'min': 0, 'max': 1}, 'PALSAR Median HV')\n",
    "\n",
    "# Add VV and VH layers to map\n",
    "#map.addLayer(S1_median_ASC_VV, {'min': -15, 'max': 5}, 'S-1 Median Asc VV')\n",
    "#map.addLayer(S1_median_ASC_VH, {'min': -25, 'max': 5}, 'S-1 Median Asc VH')\n",
    "\n",
    "# Add training data as a layer\n",
    "map.addLayer(training_data, {'color': 'red'}, 'Training Data')\n",
    "\n",
    "# Display the map with layer control\n",
    "map.addLayerControl()\n",
    "map"
   ]
  },
  {
   "cell_type": "markdown",
   "metadata": {
    "id": "eUAu9jH49iyr"
   },
   "source": [
    "## Prepare training data\n",
    "In this step, we prepare the dataset for training and testing machine learning models by processing satellite imagery and training labels. We start by selecting Sentinel-2 bands (B2 to B12) and clipping the composite image to the specified boundary region, defining the input features. Next, we rasterize the vector training data using the Cl_Id property to create a raster layer representing class labels and add it as a new band (class) to the input features. To create a representative dataset, we use stratified sampling to extract reflectance values and class labels, ensuring proportional representation across classes. A random column is added to the dataset with a fixed seed for reproducibility, allowing us to split the data into 70% for training and 30% for validation. Finally, we confirm the dataset sizes to ensure the split is as intended. This process prepares the data for effective training and validation of machine learning models."
   ]
  },
  {
   "cell_type": "code",
   "execution_count": null,
   "metadata": {
    "colab": {
     "base_uri": "https://localhost:8080/",
     "height": 54
    },
    "executionInfo": {
     "elapsed": 345,
     "status": "ok",
     "timestamp": 1743447791906,
     "user": {
      "displayName": "Courage Kamusoko",
      "userId": "11708481286302125126"
     },
     "user_tz": -540
    },
    "id": "dxvkaFEP9jp0",
    "outputId": "f7a1d506-4ae1-46fd-92cc-887625b75884"
   },
   "outputs": [
    {
     "data": {
      "text/html": [
       "\n",
       "            <style>\n",
       "                .geemap-dark {\n",
       "                    --jp-widgets-color: white;\n",
       "                    --jp-widgets-label-color: white;\n",
       "                    --jp-ui-font-color1: white;\n",
       "                    --jp-layout-color2: #454545;\n",
       "                    background-color: #383838;\n",
       "                }\n",
       "\n",
       "                .geemap-dark .jupyter-button {\n",
       "                    --jp-layout-color3: #383838;\n",
       "                }\n",
       "\n",
       "                .geemap-colab {\n",
       "                    background-color: var(--colab-primary-surface-color, white);\n",
       "                }\n",
       "\n",
       "                .geemap-colab .jupyter-button {\n",
       "                    --jp-layout-color3: var(--colab-primary-surface-color, white);\n",
       "                }\n",
       "            </style>\n",
       "            "
      ],
      "text/plain": [
       "<IPython.core.display.HTML object>"
      ]
     },
     "metadata": {},
     "output_type": "display_data"
    },
    {
     "name": "stdout",
     "output_type": "stream",
     "text": [
      "input features:  {'type': 'Image', 'bands': [{'id': 'B2', 'data_type': {'type': 'PixelType', 'precision': 'float', 'min': 0, 'max': 6.553500175476074}, 'crs': 'EPSG:4326', 'crs_transform': [1, 0, 0, 0, 1, 0]}, {'id': 'B3', 'data_type': {'type': 'PixelType', 'precision': 'float', 'min': 0, 'max': 6.553500175476074}, 'crs': 'EPSG:4326', 'crs_transform': [1, 0, 0, 0, 1, 0]}, {'id': 'B4', 'data_type': {'type': 'PixelType', 'precision': 'float', 'min': 0, 'max': 6.553500175476074}, 'crs': 'EPSG:4326', 'crs_transform': [1, 0, 0, 0, 1, 0]}, {'id': 'B5', 'data_type': {'type': 'PixelType', 'precision': 'float', 'min': 0, 'max': 6.553500175476074}, 'crs': 'EPSG:4326', 'crs_transform': [1, 0, 0, 0, 1, 0]}, {'id': 'B6', 'data_type': {'type': 'PixelType', 'precision': 'float', 'min': 0, 'max': 6.553500175476074}, 'crs': 'EPSG:4326', 'crs_transform': [1, 0, 0, 0, 1, 0]}, {'id': 'B7', 'data_type': {'type': 'PixelType', 'precision': 'float', 'min': 0, 'max': 6.553500175476074}, 'crs': 'EPSG:4326', 'crs_transform': [1, 0, 0, 0, 1, 0]}, {'id': 'B8', 'data_type': {'type': 'PixelType', 'precision': 'float', 'min': 0, 'max': 6.553500175476074}, 'crs': 'EPSG:4326', 'crs_transform': [1, 0, 0, 0, 1, 0]}, {'id': 'B11', 'data_type': {'type': 'PixelType', 'precision': 'float', 'min': 0, 'max': 6.553500175476074}, 'crs': 'EPSG:4326', 'crs_transform': [1, 0, 0, 0, 1, 0]}, {'id': 'B12', 'data_type': {'type': 'PixelType', 'precision': 'float', 'min': 0, 'max': 6.553500175476074}, 'crs': 'EPSG:4326', 'crs_transform': [1, 0, 0, 0, 1, 0]}, {'id': 'HV', 'data_type': {'type': 'PixelType', 'precision': 'float'}, 'crs': 'EPSG:4326', 'crs_transform': [1, 0, 0, 0, 1, 0]}]}\n"
     ]
    }
   ],
   "source": [
    "# Combine Sentinel-2 composite with PALSAR HV band\n",
    "combined = composite.addBands(Palsar_median_HV.rename('HV'))\n",
    "\n",
    "# Use ee.List for band selection\n",
    "bands = ee.List(['B2', 'B3', 'B4', 'B5', 'B6', 'B7', 'B8', 'B11', 'B12', 'HV'])\n",
    "input_features = combined.clip(boundary)\n",
    "print('input features: ', input_features.getInfo())\n",
    "\n",
    "# Rasterise training data\n",
    "training_rasterized = training_data.reduceToImage(\n",
    "    properties=['Cl_Id'],\n",
    "    reducer=ee.Reducer.first()\n",
    ").toInt().remap([0, 1, 2, 3, 4, 5], [0, 1, 2, 3, 4, 5]) # Bare areas, Built-up, Cropland, Grass/ open areas, Woodlands, Water\n",
    "\n",
    "# Add a class band to features\n",
    "input_features = input_features.addBands(training_rasterized.toInt().rename('class'))\n",
    "\n",
    "# Sample the reflectance, elevation, and slope values for each training point\n",
    "training_dataset = input_features.stratifiedSample(\n",
    "    numPoints=10000,\n",
    "    classBand=\"class\",\n",
    "    region=boundary,\n",
    "    scale=20\n",
    ")"
   ]
  },
  {
   "cell_type": "markdown",
   "metadata": {
    "id": "GPIPLBF45Ahj"
   },
   "source": [
    "## Export the training points\n",
    "We export the 'training_data' feature collection, Sentinel-2 composite and PALSAR ScanSAR images to your Google Drive. After configuring the export, the task is started with task.start()."
   ]
  },
  {
   "cell_type": "code",
   "execution_count": null,
   "metadata": {
    "colab": {
     "base_uri": "https://localhost:8080/",
     "height": 17
    },
    "executionInfo": {
     "elapsed": 713,
     "status": "ok",
     "timestamp": 1743218258252,
     "user": {
      "displayName": "Courage Kamusoko",
      "userId": "11708481286302125126"
     },
     "user_tz": -540
    },
    "id": "I5OQCrvJtSsF",
    "outputId": "3427b3d8-66ef-4b01-ff85-795433b64b00"
   },
   "outputs": [
    {
     "data": {
      "text/html": [
       "\n",
       "            <style>\n",
       "                .geemap-dark {\n",
       "                    --jp-widgets-color: white;\n",
       "                    --jp-widgets-label-color: white;\n",
       "                    --jp-ui-font-color1: white;\n",
       "                    --jp-layout-color2: #454545;\n",
       "                    background-color: #383838;\n",
       "                }\n",
       "\n",
       "                .geemap-dark .jupyter-button {\n",
       "                    --jp-layout-color3: #383838;\n",
       "                }\n",
       "\n",
       "                .geemap-colab {\n",
       "                    background-color: var(--colab-primary-surface-color, white);\n",
       "                }\n",
       "\n",
       "                .geemap-colab .jupyter-button {\n",
       "                    --jp-layout-color3: var(--colab-primary-surface-color, white);\n",
       "                }\n",
       "            </style>\n",
       "            "
      ],
      "text/plain": [
       "<IPython.core.display.HTML object>"
      ]
     },
     "metadata": {},
     "output_type": "display_data"
    }
   ],
   "source": [
    "# Export training samples as CSV\n",
    "task_table = ee.batch.Export.table.toDrive(\n",
    "    collection=training_dataset,\n",
    "    description='Bul_TA_S2_Pal_2024',\n",
    "    folder='Bulawayo_Dataset_2024',\n",
    "    fileFormat='CSV'\n",
    ")\n",
    "\n",
    "# Start the export task\n",
    "task_table.start()\n",
    "\n",
    "# Export the composite with indices\n",
    "task_composite = ee.batch.Export.image.toDrive(\n",
    "    image=composite.float(),\n",
    "    description='Bul_S2_2024',\n",
    "    folder='Bulawayo_Dataset_2024',\n",
    "    scale=10,\n",
    "    region=boundary.geometry(),\n",
    "    maxPixels=1e13\n",
    ")\n",
    "task_composite.start()\n",
    "\n",
    "# Export the composite with indices\n",
    "task_composite = ee.batch.Export.image.toDrive(\n",
    "    image=Palsar_median_HH.float(),\n",
    "    description='Bul_Palsar_HH_2024',\n",
    "    folder='Bulawayo_Dataset_2024',\n",
    "    scale=10,\n",
    "    region=boundary.geometry(),\n",
    "    maxPixels=1e13\n",
    ")\n",
    "\n",
    "# Export the composite with indices\n",
    "task_composite = ee.batch.Export.image.toDrive(\n",
    "    image=Palsar_median_HV.float(),\n",
    "    description='Bul_Palsar_HV_2024',\n",
    "    folder='Bulawayo_Dataset_2024',\n",
    "    scale=10,\n",
    "    region=boundary.geometry(),\n",
    "    maxPixels=1e13\n",
    ")\n",
    "task_composite.start()"
   ]
  }
 ],
 "metadata": {
  "colab": {
   "authorship_tag": "ABX9TyNSkcVP48AMjyInc1QzdgDN",
   "provenance": [
    {
     "file_id": "1VBTyyBSiVU9Zirb4Z24nLKq9M25EPKli",
     "timestamp": 1741071574445
    },
    {
     "file_id": "1Zl5OJ-cYE6UxQx8fZgegjbZKJ1HWOWZ9",
     "timestamp": 1738727008078
    },
    {
     "file_id": "16N6GtCxKAQLAMo5z7KeKfCRhEMDIv-KF",
     "timestamp": 1738570567555
    },
    {
     "file_id": "1JWBCZgMDwBXuDH8D1cwQXRAYhbPh2k9i",
     "timestamp": 1733982280196
    },
    {
     "file_id": "1Jb2bSsicffOWGcGwyHKVDmAFSVvztXKO",
     "timestamp": 1720076045454
    },
    {
     "file_id": "13CitNL559FS3oXKnbU2OYZ5aCvCUohlB",
     "timestamp": 1717060153092
    },
    {
     "file_id": "1pucltiWBApzrfdjZk6DsDLVdMsrhki3K",
     "timestamp": 1716974294578
    },
    {
     "file_id": "11Q2bIgZ_p9fjvd_RchK5GgudjUpIXDoc",
     "timestamp": 1693551968319
    },
    {
     "file_id": "1CJ8Zi-Y70b1a5tlabqK7XzF0cSejvK5o",
     "timestamp": 1691981474614
    },
    {
     "file_id": "114KWAI_521aS_9VnnoJ5_np2XQ0PVCNe",
     "timestamp": 1691396565340
    },
    {
     "file_id": "1xNtXI6juO1MzbuGnUk6lrGUJGt0gY_3S",
     "timestamp": 1690880325067
    },
    {
     "file_id": "1SALS5WC6jUm9hAaeWeYPdwT0x8jGq7El",
     "timestamp": 1690359796928
    },
    {
     "file_id": "19cPTbOg5-84PhUeTbME1l4LxJygEIML9",
     "timestamp": 1690252486449
    },
    {
     "file_id": "1LJicnyKpLhS67KiIe3VrBGLmWswh-253",
     "timestamp": 1689987838117
    }
   ]
  },
  "kernelspec": {
   "display_name": "Python 3",
   "name": "python3"
  },
  "language_info": {
   "name": "python"
  }
 },
 "nbformat": 4,
 "nbformat_minor": 0
}
