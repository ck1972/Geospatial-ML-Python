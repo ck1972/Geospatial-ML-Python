{
  "nbformat": 4,
  "nbformat_minor": 0,
  "metadata": {
    "colab": {
      "provenance": []
    },
    "kernelspec": {
      "name": "python3",
      "display_name": "Python 3"
    },
    "language_info": {
      "name": "python"
    }
  },
  "cells": [
    {
      "cell_type": "markdown",
      "source": [
        "# **Lab 8: Scaling Geospatial Machine Learning — Exploring the Spatial Transferability of Random Forest Models for Land Cover Classification**\n"
      ],
      "metadata": {
        "id": "vZ4_Q66bOiWZ"
      }
    },
    {
      "cell_type": "markdown",
      "source": [
        "## Imports and Setup\n",
        "### Install libraries\n",
        "First, install any additional libraries that are not installed by default (e.g., rasterio, earthpy)."
      ],
      "metadata": {
        "id": "-pwDPkalAvRb"
      }
    },
    {
      "cell_type": "code",
      "execution_count": null,
      "metadata": {
        "id": "aWr5V6krNx-I",
        "colab": {
          "base_uri": "https://localhost:8080/"
        },
        "outputId": "03f9874d-7006-43fe-9624-05298a36a30c",
        "collapsed": true
      },
      "outputs": [
        {
          "output_type": "stream",
          "name": "stdout",
          "text": [
            "Collecting rasterio\n",
            "  Downloading rasterio-1.4.3-cp311-cp311-manylinux_2_17_x86_64.manylinux2014_x86_64.whl.metadata (9.1 kB)\n",
            "Collecting affine (from rasterio)\n",
            "  Downloading affine-2.4.0-py3-none-any.whl.metadata (4.0 kB)\n",
            "Requirement already satisfied: attrs in /usr/local/lib/python3.11/dist-packages (from rasterio) (25.3.0)\n",
            "Requirement already satisfied: certifi in /usr/local/lib/python3.11/dist-packages (from rasterio) (2025.1.31)\n",
            "Requirement already satisfied: click>=4.0 in /usr/local/lib/python3.11/dist-packages (from rasterio) (8.1.8)\n",
            "Collecting cligj>=0.5 (from rasterio)\n",
            "  Downloading cligj-0.7.2-py3-none-any.whl.metadata (5.0 kB)\n",
            "Requirement already satisfied: numpy>=1.24 in /usr/local/lib/python3.11/dist-packages (from rasterio) (2.0.2)\n",
            "Collecting click-plugins (from rasterio)\n",
            "  Downloading click_plugins-1.1.1-py2.py3-none-any.whl.metadata (6.4 kB)\n",
            "Requirement already satisfied: pyparsing in /usr/local/lib/python3.11/dist-packages (from rasterio) (3.2.3)\n",
            "Downloading rasterio-1.4.3-cp311-cp311-manylinux_2_17_x86_64.manylinux2014_x86_64.whl (22.2 MB)\n",
            "\u001b[2K   \u001b[90m━━━━━━━━━━━━━━━━━━━━━━━━━━━━━━━━━━━━━━━━\u001b[0m \u001b[32m22.2/22.2 MB\u001b[0m \u001b[31m30.2 MB/s\u001b[0m eta \u001b[36m0:00:00\u001b[0m\n",
            "\u001b[?25hDownloading cligj-0.7.2-py3-none-any.whl (7.1 kB)\n",
            "Downloading affine-2.4.0-py3-none-any.whl (15 kB)\n",
            "Downloading click_plugins-1.1.1-py2.py3-none-any.whl (7.5 kB)\n",
            "Installing collected packages: cligj, click-plugins, affine, rasterio\n",
            "Successfully installed affine-2.4.0 click-plugins-1.1.1 cligj-0.7.2 rasterio-1.4.3\n",
            "Collecting earthpy\n",
            "  Downloading earthpy-0.9.4-py3-none-any.whl.metadata (9.2 kB)\n",
            "Requirement already satisfied: geopandas in /usr/local/lib/python3.11/dist-packages (from earthpy) (1.0.1)\n",
            "Requirement already satisfied: matplotlib>=2.0.0 in /usr/local/lib/python3.11/dist-packages (from earthpy) (3.10.0)\n",
            "Requirement already satisfied: numpy>=1.14.0 in /usr/local/lib/python3.11/dist-packages (from earthpy) (2.0.2)\n",
            "Requirement already satisfied: rasterio in /usr/local/lib/python3.11/dist-packages (from earthpy) (1.4.3)\n",
            "Requirement already satisfied: scikit-image in /usr/local/lib/python3.11/dist-packages (from earthpy) (0.25.2)\n",
            "Requirement already satisfied: requests in /usr/local/lib/python3.11/dist-packages (from earthpy) (2.32.3)\n",
            "Requirement already satisfied: contourpy>=1.0.1 in /usr/local/lib/python3.11/dist-packages (from matplotlib>=2.0.0->earthpy) (1.3.1)\n",
            "Requirement already satisfied: cycler>=0.10 in /usr/local/lib/python3.11/dist-packages (from matplotlib>=2.0.0->earthpy) (0.12.1)\n",
            "Requirement already satisfied: fonttools>=4.22.0 in /usr/local/lib/python3.11/dist-packages (from matplotlib>=2.0.0->earthpy) (4.57.0)\n",
            "Requirement already satisfied: kiwisolver>=1.3.1 in /usr/local/lib/python3.11/dist-packages (from matplotlib>=2.0.0->earthpy) (1.4.8)\n",
            "Requirement already satisfied: packaging>=20.0 in /usr/local/lib/python3.11/dist-packages (from matplotlib>=2.0.0->earthpy) (24.2)\n",
            "Requirement already satisfied: pillow>=8 in /usr/local/lib/python3.11/dist-packages (from matplotlib>=2.0.0->earthpy) (11.1.0)\n",
            "Requirement already satisfied: pyparsing>=2.3.1 in /usr/local/lib/python3.11/dist-packages (from matplotlib>=2.0.0->earthpy) (3.2.3)\n",
            "Requirement already satisfied: python-dateutil>=2.7 in /usr/local/lib/python3.11/dist-packages (from matplotlib>=2.0.0->earthpy) (2.8.2)\n",
            "Requirement already satisfied: pyogrio>=0.7.2 in /usr/local/lib/python3.11/dist-packages (from geopandas->earthpy) (0.10.0)\n",
            "Requirement already satisfied: pandas>=1.4.0 in /usr/local/lib/python3.11/dist-packages (from geopandas->earthpy) (2.2.2)\n",
            "Requirement already satisfied: pyproj>=3.3.0 in /usr/local/lib/python3.11/dist-packages (from geopandas->earthpy) (3.7.1)\n",
            "Requirement already satisfied: shapely>=2.0.0 in /usr/local/lib/python3.11/dist-packages (from geopandas->earthpy) (2.1.0)\n",
            "Requirement already satisfied: affine in /usr/local/lib/python3.11/dist-packages (from rasterio->earthpy) (2.4.0)\n",
            "Requirement already satisfied: attrs in /usr/local/lib/python3.11/dist-packages (from rasterio->earthpy) (25.3.0)\n",
            "Requirement already satisfied: certifi in /usr/local/lib/python3.11/dist-packages (from rasterio->earthpy) (2025.1.31)\n",
            "Requirement already satisfied: click>=4.0 in /usr/local/lib/python3.11/dist-packages (from rasterio->earthpy) (8.1.8)\n",
            "Requirement already satisfied: cligj>=0.5 in /usr/local/lib/python3.11/dist-packages (from rasterio->earthpy) (0.7.2)\n",
            "Requirement already satisfied: click-plugins in /usr/local/lib/python3.11/dist-packages (from rasterio->earthpy) (1.1.1)\n",
            "Requirement already satisfied: charset-normalizer<4,>=2 in /usr/local/lib/python3.11/dist-packages (from requests->earthpy) (3.4.1)\n",
            "Requirement already satisfied: idna<4,>=2.5 in /usr/local/lib/python3.11/dist-packages (from requests->earthpy) (3.10)\n",
            "Requirement already satisfied: urllib3<3,>=1.21.1 in /usr/local/lib/python3.11/dist-packages (from requests->earthpy) (2.3.0)\n",
            "Requirement already satisfied: scipy>=1.11.4 in /usr/local/lib/python3.11/dist-packages (from scikit-image->earthpy) (1.14.1)\n",
            "Requirement already satisfied: networkx>=3.0 in /usr/local/lib/python3.11/dist-packages (from scikit-image->earthpy) (3.4.2)\n",
            "Requirement already satisfied: imageio!=2.35.0,>=2.33 in /usr/local/lib/python3.11/dist-packages (from scikit-image->earthpy) (2.37.0)\n",
            "Requirement already satisfied: tifffile>=2022.8.12 in /usr/local/lib/python3.11/dist-packages (from scikit-image->earthpy) (2025.3.30)\n",
            "Requirement already satisfied: lazy-loader>=0.4 in /usr/local/lib/python3.11/dist-packages (from scikit-image->earthpy) (0.4)\n",
            "Requirement already satisfied: pytz>=2020.1 in /usr/local/lib/python3.11/dist-packages (from pandas>=1.4.0->geopandas->earthpy) (2025.2)\n",
            "Requirement already satisfied: tzdata>=2022.7 in /usr/local/lib/python3.11/dist-packages (from pandas>=1.4.0->geopandas->earthpy) (2025.2)\n",
            "Requirement already satisfied: six>=1.5 in /usr/local/lib/python3.11/dist-packages (from python-dateutil>=2.7->matplotlib>=2.0.0->earthpy) (1.17.0)\n",
            "Downloading earthpy-0.9.4-py3-none-any.whl (1.4 MB)\n",
            "\u001b[2K   \u001b[90m━━━━━━━━━━━━━━━━━━━━━━━━━━━━━━━━━━━━━━━━\u001b[0m \u001b[32m1.4/1.4 MB\u001b[0m \u001b[31m14.0 MB/s\u001b[0m eta \u001b[36m0:00:00\u001b[0m\n",
            "\u001b[?25hInstalling collected packages: earthpy\n",
            "Successfully installed earthpy-0.9.4\n"
          ]
        }
      ],
      "source": [
        "# Install rasterio and earthpy libraries\n",
        "!pip install rasterio\n",
        "!pip install earthpy"
      ]
    },
    {
      "cell_type": "markdown",
      "source": [
        "### Import libraries\n",
        "Import the necessary libraries (pandas, numpy, scikit-learn, rasterio, etc.)."
      ],
      "metadata": {
        "id": "SIhoHLoHq8_L"
      }
    },
    {
      "cell_type": "code",
      "source": [
        "# Import libraries\n",
        "import earthpy.plot as ep\n",
        "import numpy as np\n",
        "import matplotlib.pyplot as plt\n",
        "import rasterio\n",
        "import joblib\n",
        "from matplotlib.colors import from_levels_and_colors\n",
        "from google.colab import drive"
      ],
      "metadata": {
        "id": "F6bfz1KZzA-J"
      },
      "execution_count": null,
      "outputs": []
    },
    {
      "cell_type": "markdown",
      "source": [
        "### Mount Google Drive\n",
        "Next, mount your Google Drive. You will be prompted to authorize access to your Google Drive. Once mounted, you can read/write files in /content/drive/MyDrive."
      ],
      "metadata": {
        "id": "bzVfa9mtzRMO"
      }
    },
    {
      "cell_type": "code",
      "source": [
        "# Mount Google Drive\n",
        "drive.mount('/content/drive')"
      ],
      "metadata": {
        "colab": {
          "base_uri": "https://localhost:8080/"
        },
        "id": "VXvi8JvIzRmY",
        "outputId": "13e75cd5-7594-4a10-93b7-6984a8c44b05"
      },
      "execution_count": null,
      "outputs": [
        {
          "output_type": "stream",
          "name": "stdout",
          "text": [
            "Drive already mounted at /content/drive; to attempt to forcibly remount, call drive.mount(\"/content/drive\", force_remount=True).\n"
          ]
        }
      ]
    },
    {
      "cell_type": "markdown",
      "source": [
        "### Define file paths and metadata\n",
        "Define the the paths to access your own directory structure in Google Drive. In this tutorial, we use:\n",
        "-A CSV training dataset (Bul_TrainingData_2024.csv) containing pixel values and their corresponding classes.\n",
        "- A multiband Sentinel-2 image (Bul_S2_2024.tif).\n",
        "- PALSAR ScanSAR polarization"
      ],
      "metadata": {
        "id": "l0HWzfHGzVCH"
      }
    },
    {
      "cell_type": "code",
      "source": [
        "# Define file paths\n",
        "s2_path = '/content/drive/MyDrive/Gweru_Dataset_2024/Gw_S2_2024.tif'\n",
        "palsar_path = '/content/drive/MyDrive/Gweru_Dataset_2024/Gw_Palsar_HV_2024.tif'\n",
        "model_path = '/content/drive/MyDrive/Bulawayo_Dataset_2024/best_rf_model.pkl'\n",
        "output_path = '/content/drive/MyDrive/Gweru_Dataset_2024/Gw_LandCover_RF_2024.tif'\n",
        "\n",
        "# Define metadata\n",
        "Bands = ['B2', 'B3', 'B4', 'B5', 'B6', 'B7', 'B8', 'B11', 'B12', 'HV']\n",
        "Classes = [0, 1, 2, 3, 4, 5]\n",
        "Names = [\"Bare area\", \"Built-up\", \"Cropland\", \"Grassland\", \"Woodland\", \"Water\"]\n",
        "Palette = ['#D3D3D3', '#FF0000', '#FFD700', '#ADFF2F', '#006400', '#0000FF']"
      ],
      "metadata": {
        "id": "rAhoAyB3OHYU"
      },
      "execution_count": null,
      "outputs": []
    },
    {
      "cell_type": "markdown",
      "source": [
        "## Load the trained random forest model\n",
        "Next, we will load a previously trained random forest model that was saved in Lab 5b. The model was serialized and stored as a Python object using the *joblib* library, which is commonly used for saving machine learning models efficiently. The *joblib.load(model_path) *function reads the model file from the specified path and loads it into memory as a dictionary called model_package. This dictionary contains at least two key elements: \"model\", which stores the trained Random Forest classifier, and \"features\", which lists the names of the input features (e.g., spectral bands) used to train the model. These elements are extracted and stored in the variables rf (the model itself) and features (the feature names), allowing the model to be reused for prediction tasks without retraining."
      ],
      "metadata": {
        "id": "z5OiNvFS_ouw"
      }
    },
    {
      "cell_type": "code",
      "source": [
        "# Load the trained model\n",
        "model_package = joblib.load(model_path)\n",
        "rf = model_package['model']\n",
        "features = model_package['features']"
      ],
      "metadata": {
        "id": "Fad4bQo8O8f6"
      },
      "execution_count": null,
      "outputs": []
    },
    {
      "cell_type": "markdown",
      "source": [
        "## Load and display Sentinel-2 and PALSAR HV images for Gweru\n",
        "We will use rasterio to open Sentinel-2 imagery and ALOS PALSAR ScanSAR HV polarization for the new study area."
      ],
      "metadata": {
        "id": "C5gp8p3APPfX"
      }
    },
    {
      "cell_type": "code",
      "source": [
        "# Load Sentinel-2 bands (assumes 9 bands in the correct order: B2 to B12)\n",
        "with rasterio.open(s2_path) as s2_src:\n",
        "    s2_bands = s2_src.read(list(range(1, 10)))\n",
        "    profile = s2_src.profile  # Save for writing output\n",
        "\n",
        "# Load PALSAR HV band\n",
        "with rasterio.open(palsar_path) as palsar_src:\n",
        "    palsar_hv = palsar_src.read(1)\n",
        "\n",
        "# Display Sentinel-2 RGB and PALSAR HV\n",
        "# Select bands for RGB\n",
        "red = s2_bands[8, :, :]   # B12 (SWIR2)\n",
        "green = s2_bands[6, :, :] # B8 (NIR)\n",
        "blue = s2_bands[2, :, :]  # B4 (Red)\n",
        "\n",
        "# Normalize for display\n",
        "rgb = np.stack([red, green, blue], axis=-1)\n",
        "rgb_min, rgb_max = 0, 0.4\n",
        "rgb_display = np.clip((rgb - rgb_min) / (rgb_max - rgb_min), 0, 1)\n",
        "\n",
        "# Normalize PALSAR HV\n",
        "hv_min, hv_max = 0, 1\n",
        "hv_display = np.clip((palsar_hv - hv_min) / (hv_max - hv_min), 0, 1)"
      ],
      "metadata": {
        "id": "J8WcdvV7PZAG"
      },
      "execution_count": null,
      "outputs": []
    },
    {
      "cell_type": "markdown",
      "source": [
        "### Display images\n",
        "Display the Sentinel-2 composite and the PALSAR ScanSAR HV polorization images."
      ],
      "metadata": {
        "id": "t-8cTffxQkjA"
      }
    },
    {
      "cell_type": "code",
      "source": [
        "# Plot\n",
        "fig, axs = plt.subplots(1, 2, figsize=(14, 7))\n",
        "axs[0].imshow(rgb_display)\n",
        "axs[0].set_title('Sentinel-2 RGB (B11, B8, B4)')\n",
        "axs[0].axis('off')\n",
        "\n",
        "axs[1].imshow(hv_display, cmap='gray')\n",
        "axs[1].set_title('PALSAR HV Backscatter')\n",
        "axs[1].axis('off')\n",
        "\n",
        "plt.tight_layout()\n",
        "plt.show()"
      ],
      "metadata": {
        "id": "UwHMTlRvQp5N"
      },
      "execution_count": null,
      "outputs": []
    },
    {
      "cell_type": "markdown",
      "source": [
        "## Apply the model to classify land cover in the study area\n",
        "Next, we will prepare the input features and apply the trained random forest model to predict land cover classes for a new study area (Gweru).\n",
        "\n",
        "First, the Sentinel-2 and PALSAR HV bands are stacked together using np.concatenate. The Sentinel-2 image contains nine spectral bands, and the PALSAR HV band is added as the tenth band by expanding its dimensions with np.newaxis, resulting in a three-dimensional array of shape (10, height, width). This array is then transposed to the shape (height, width, 10) to match the format expected by scikit-learn models, where each pixel is represented by a vector of 10 features.\n",
        "\n",
        "Next, the stacked image is reshaped into a two-dimensional array (flat_pixels) of shape (number_of_pixels, 10) so that each row corresponds to a single pixel's feature vector. This reshaped array is passed to the predict method of the previously trained randomforest classifier (rf.predict(flat_pixels)), which outputs a flat array of predicted land cover class labels. Finally, the predictions are reshaped back to the original spatial dimensions (height, width) to produce a classified land cover map (predicted_image) suitable for visualization and export."
      ],
      "metadata": {
        "id": "XjOx0tizPrdy"
      }
    },
    {
      "cell_type": "code",
      "source": [
        "# Stack and Predict\n",
        "# Stack S2 and PALSAR HV\n",
        "bands_data = np.concatenate([s2_bands, palsar_hv[np.newaxis, :, :]], axis=0)  # (10, H, W)\n",
        "bands_data = np.transpose(bands_data, (1, 2, 0))  # (H, W, 10)\n",
        "flat_pixels = bands_data.reshape(-1, bands_data.shape[-1])  # (N_pixels, 10)\n",
        "\n",
        "# Predict\n",
        "predictions = rf.predict(flat_pixels)\n",
        "predicted_image = predictions.reshape(bands_data.shape[:2])  # (H, W)"
      ],
      "metadata": {
        "colab": {
          "base_uri": "https://localhost:8080/"
        },
        "id": "68CeuOPKPvjz",
        "outputId": "f3024ce1-5263-4429-f8a3-4bc227a5b059"
      },
      "execution_count": null,
      "outputs": [
        {
          "output_type": "stream",
          "name": "stderr",
          "text": [
            "/usr/local/lib/python3.11/dist-packages/sklearn/utils/validation.py:2739: UserWarning: X does not have valid feature names, but RandomForestClassifier was fitted with feature names\n",
            "  warnings.warn(\n"
          ]
        }
      ]
    },
    {
      "cell_type": "markdown",
      "source": [
        "## Display and export the predicted land cover map\n",
        "Finally, we display the land cover map and then export it to Google Drive as GeoTIFF using rasterio."
      ],
      "metadata": {
        "id": "oPVsjmUFP6YX"
      }
    },
    {
      "cell_type": "code",
      "source": [
        "# Display Predicted Map\n",
        "levels = Classes + [max(Classes) + 1]\n",
        "cmap, norm = from_levels_and_colors(levels, Palette)\n",
        "\n",
        "plt.figure(figsize=(10, 8))\n",
        "im = plt.imshow(predicted_image, cmap=cmap, norm=norm)\n",
        "plt.title(\"Predicted Land Cover Map - Gweru\")\n",
        "cbar = plt.colorbar(im, shrink=0.7)\n",
        "tick_positions = [i + 0.5 for i in Classes]\n",
        "cbar.set_ticks(tick_positions)\n",
        "cbar.set_ticklabels(Names)\n",
        "plt.axis('off')\n",
        "plt.show()\n",
        "\n",
        "# Save to GeoTIFF\n",
        "profile.update(dtype=rasterio.uint8, count=1)\n",
        "with rasterio.open(output_path, 'w', **profile) as dst:\n",
        "    dst.write(predicted_image.astype(rasterio.uint8), 1)\n",
        "\n",
        "print(\"Land cover map saved to:\", output_path)"
      ],
      "metadata": {
        "id": "yVfDQqx4P9-c"
      },
      "execution_count": null,
      "outputs": []
    }
  ]
}