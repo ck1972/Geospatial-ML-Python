{
  "nbformat": 4,
  "nbformat_minor": 0,
  "metadata": {
    "colab": {
      "provenance": [],
      "authorship_tag": "ABX9TyN35VZHWrubd2wWTMYHGzo5",
      "include_colab_link": true
    },
    "kernelspec": {
      "name": "python3",
      "display_name": "Python 3"
    },
    "language_info": {
      "name": "python"
    }
  },
  "cells": [
    {
      "cell_type": "markdown",
      "metadata": {
        "id": "view-in-github",
        "colab_type": "text"
      },
      "source": [
        "<a href=\"https://colab.research.google.com/github/ck1972/Geospatial-ML-Python/blob/main/Lab_10a_Final_Project_Template_Aboveground_Biomass_Estimation_Using_Machine_Learning_in_Python.ipynb\" target=\"_parent\"><img src=\"https://colab.research.google.com/assets/colab-badge.svg\" alt=\"Open In Colab\"/></a>"
      ]
    },
    {
      "cell_type": "markdown",
      "source": [
        "#**Lab 10a. Final Project Template: Aboveground Biomass Estimation Using Machine Learning in Python**"
      ],
      "metadata": {
        "id": "JH9bkWSp4qtN"
      }
    },
    {
      "cell_type": "code",
      "execution_count": null,
      "metadata": {
        "id": "pIzQ_q7vJYFw"
      },
      "outputs": [],
      "source": [
        "# ========================\n",
        "# FINAL PROJECT TEMPLATE\n",
        "# Title: Estimating Aboveground Biomass Density (AGBD) Using ML\n",
        "# ========================\n",
        "\n",
        "# STEP 1: Set up the environment\n",
        "!pip install shap\n",
        "import pandas as pd\n",
        "import numpy as np\n",
        "import matplotlib.pyplot as plt\n",
        "import shap\n",
        "import joblib\n",
        "from sklearn.ensemble import RandomForestRegressor\n",
        "from sklearn.model_selection import train_test_split\n",
        "from sklearn.metrics import r2_score, mean_squared_error\n",
        "\n",
        "# Optional: Mount Google Drive if data is stored there\n",
        "from google.colab import drive\n",
        "drive.mount('/content/drive')"
      ]
    },
    {
      "cell_type": "code",
      "source": [
        "# STEP 2: Load and explore your dataset\n",
        "# Replace with your file path\n",
        "data_path = '/content/drive/MyDrive/AGBD/final_dataset.csv'\n",
        "df = pd.read_csv(data_path)\n",
        "\n",
        "# Preview the data\n",
        "df.head()\n",
        "df.info()\n",
        "df.describe()"
      ],
      "metadata": {
        "id": "sJ6yreuDJlTb"
      },
      "execution_count": null,
      "outputs": []
    },
    {
      "cell_type": "code",
      "source": [
        "# STEP 3: Define features and target\n",
        "# Example features and target column\n",
        "features = ['NDVI', 'SLAVI', 'CCCI', 'Elevation', 'LandCover']\n",
        "target = 'AGBD'\n",
        "\n",
        "X = df[features]\n",
        "y = df[target]"
      ],
      "metadata": {
        "id": "_6Vkv_cqJpEm"
      },
      "execution_count": null,
      "outputs": []
    },
    {
      "cell_type": "code",
      "source": [
        "# STEP 4: Split the data\n",
        "X_train, X_test, y_train, y_test = train_test_split(X, y, test_size=0.3, random_state=42)"
      ],
      "metadata": {
        "id": "DegGzUXCJwW4"
      },
      "execution_count": null,
      "outputs": []
    },
    {
      "cell_type": "code",
      "source": [
        "# STEP 5: Train a Random Forest Regression model\n",
        "model = RandomForestRegressor(n_estimators=100, random_state=42)\n",
        "model.fit(X_train, y_train)\n",
        "\n",
        "# Save the model\n",
        "joblib.dump({'model': model, 'features': features}, '/content/drive/MyDrive/AGBD/rf_model_agbd.pkl')"
      ],
      "metadata": {
        "id": "Wc6_S74pJ2ig"
      },
      "execution_count": null,
      "outputs": []
    },
    {
      "cell_type": "code",
      "source": [
        "# STEP 6: Evaluate the model\n",
        "y_pred = model.predict(X_test)\n",
        "\n",
        "r2 = r2_score(y_test, y_pred)\n",
        "rmse = np.sqrt(mean_squared_error(y_test, y_pred))\n",
        "\n",
        "print(f'R² Score: {r2:.3f}')\n",
        "print(f'RMSE: {rmse:.2f}')"
      ],
      "metadata": {
        "id": "ilrXmNpSJ6hu"
      },
      "execution_count": null,
      "outputs": []
    },
    {
      "cell_type": "code",
      "source": [
        "# STEP 7: Visualize predictions\n",
        "plt.figure(figsize=(8,6))\n",
        "plt.scatter(y_test, y_pred, alpha=0.6)\n",
        "plt.xlabel(\"Actual AGBD\")\n",
        "plt.ylabel(\"Predicted AGBD\")\n",
        "plt.title(\"Actual vs Predicted AGBD\")\n",
        "plt.grid(True)\n",
        "plt.plot([y_test.min(), y_test.max()], [y_test.min(), y_test.max()], 'r--')\n",
        "plt.show()\n"
      ],
      "metadata": {
        "id": "6w4hZdOTKAIq"
      },
      "execution_count": null,
      "outputs": []
    },
    {
      "cell_type": "code",
      "source": [
        "# STEP 8: Explain the model with SHAP\n",
        "explainer = shap.TreeExplainer(model)\n",
        "shap_values = explainer.shap_values(X_test)\n",
        "\n",
        "# Summary plot\n",
        "shap.summary_plot(shap_values, X_test, plot_type=\"bar\")\n"
      ],
      "metadata": {
        "id": "rrDGzywJKERm"
      },
      "execution_count": null,
      "outputs": []
    },
    {
      "cell_type": "code",
      "source": [
        "# STEP 9: Document and Export\n",
        "# Create a summary of results\n",
        "summary = {\n",
        "    'R² Score': r2,\n",
        "    'RMSE': rmse,\n",
        "    'Features Used': features,\n",
        "    'Model Type': 'Random Forest Regressor'\n",
        "}\n",
        "summary_df = pd.DataFrame([summary])\n",
        "summary_df.to_csv('/content/drive/MyDrive/AGBD/model_summary.csv', index=False)\n",
        "\n",
        "# Optional: Save predictions\n",
        "results_df = X_test.copy()\n",
        "results_df['Actual_AGBD'] = y_test\n",
        "results_df['Predicted_AGBD'] = y_pred\n",
        "results_df.to_csv('/content/drive/MyDrive/AGBD/predictions.csv', index=False)\n"
      ],
      "metadata": {
        "id": "EFFR2W9XKIiY"
      },
      "execution_count": null,
      "outputs": []
    }
  ]
}